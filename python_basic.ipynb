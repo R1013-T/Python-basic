{
  "nbformat": 4,
  "nbformat_minor": 0,
  "metadata": {
    "colab": {
      "provenance": [],
      "authorship_tag": "ABX9TyPmsRoS4BjtIeJNvdhmAiT8",
      "include_colab_link": true
    },
    "kernelspec": {
      "name": "python3",
      "display_name": "Python 3"
    },
    "language_info": {
      "name": "python"
    }
  },
  "cells": [
    {
      "cell_type": "markdown",
      "metadata": {
        "id": "view-in-github",
        "colab_type": "text"
      },
      "source": [
        "<a href=\"https://colab.research.google.com/github/R1013-T/Python-basic/blob/main/python_basic.ipynb\" target=\"_parent\"><img src=\"https://colab.research.google.com/assets/colab-badge.svg\" alt=\"Open In Colab\"/></a>"
      ]
    },
    {
      "cell_type": "code",
      "execution_count": null,
      "metadata": {
        "id": "gsPJ6-K1TlxT",
        "colab": {
          "base_uri": "https://localhost:8080/"
        },
        "outputId": "0a989d8c-ee27-4753-b9a7-28b48a98f7f7"
      },
      "outputs": [
        {
          "output_type": "stream",
          "name": "stdout",
          "text": [
            "Hello, world!\n"
          ]
        }
      ],
      "source": [
        "print(\"Hello, world!\")"
      ]
    },
    {
      "cell_type": "code",
      "source": [
        "print{\"hello mornig\"}"
      ],
      "metadata": {
        "colab": {
          "base_uri": "https://localhost:8080/",
          "height": 145
        },
        "id": "a44Rkph1xjsW",
        "outputId": "17b7c7ec-a476-40ba-cee2-60759151fbdd"
      },
      "execution_count": null,
      "outputs": [
        {
          "output_type": "error",
          "ename": "SyntaxError",
          "evalue": "ignored",
          "traceback": [
            "\u001b[0;36m  File \u001b[0;32m\"<ipython-input-2-98fa02ad1ef6>\"\u001b[0;36m, line \u001b[0;32m1\u001b[0m\n\u001b[0;31m    print{\"hello mornig\"}\u001b[0m\n\u001b[0m    ^\u001b[0m\n\u001b[0;31mSyntaxError\u001b[0m\u001b[0;31m:\u001b[0m Missing parentheses in call to 'print'. Did you mean print(...)?\n"
          ]
        }
      ]
    },
    {
      "cell_type": "code",
      "source": [
        "print(\"Hello\")\n",
        "print(\"1\")\n",
        "print(2)"
      ],
      "metadata": {
        "colab": {
          "base_uri": "https://localhost:8080/"
        },
        "id": "0UnvDS9x35SF",
        "outputId": "827649ad-a3fc-463a-eb0c-7555ac9cd5a2"
      },
      "execution_count": null,
      "outputs": [
        {
          "output_type": "stream",
          "name": "stdout",
          "text": [
            "Hello\n",
            "1\n",
            "2\n"
          ]
        }
      ]
    },
    {
      "cell_type": "code",
      "source": [
        "num1 = 1\n",
        "print(num1)\n",
        "\n",
        "num1 = 2\n",
        "print(num1)"
      ],
      "metadata": {
        "colab": {
          "base_uri": "https://localhost:8080/"
        },
        "id": "o6ejm5o64CFi",
        "outputId": "77422243-58d3-4887-bb28-fab7d461457a"
      },
      "execution_count": null,
      "outputs": [
        {
          "output_type": "stream",
          "name": "stdout",
          "text": [
            "1\n",
            "2\n"
          ]
        }
      ]
    },
    {
      "cell_type": "code",
      "source": [
        "import keyword\n",
        "\n",
        "print(keyword.kwlist)"
      ],
      "metadata": {
        "colab": {
          "base_uri": "https://localhost:8080/"
        },
        "id": "YDfqPiLp5Z6f",
        "outputId": "64aee2af-95af-4518-aac5-61bb4d2aa49a"
      },
      "execution_count": null,
      "outputs": [
        {
          "output_type": "stream",
          "name": "stdout",
          "text": [
            "['False', 'None', 'True', 'and', 'as', 'assert', 'async', 'await', 'break', 'class', 'continue', 'def', 'del', 'elif', 'else', 'except', 'finally', 'for', 'from', 'global', 'if', 'import', 'in', 'is', 'lambda', 'nonlocal', 'not', 'or', 'pass', 'raise', 'return', 'try', 'while', 'with', 'yield']\n"
          ]
        }
      ]
    },
    {
      "cell_type": "code",
      "source": [
        "num1 = 123\n",
        "num2 = 1.23\n",
        "\n",
        "print(\"num1\", type(num1))\n",
        "print(\"num2\", type(num2))"
      ],
      "metadata": {
        "colab": {
          "base_uri": "https://localhost:8080/"
        },
        "id": "74PQnf9b52lO",
        "outputId": "23069c4f-0125-40b6-cd39-359b6a7b5c98"
      },
      "execution_count": null,
      "outputs": [
        {
          "output_type": "stream",
          "name": "stdout",
          "text": [
            "num1 <class 'int'>\n",
            "num2 <class 'float'>\n"
          ]
        }
      ]
    },
    {
      "cell_type": "code",
      "source": [
        "# リスト"
      ],
      "metadata": {
        "id": "zk1cXD2uVMcJ"
      },
      "execution_count": null,
      "outputs": []
    },
    {
      "cell_type": "code",
      "source": [
        "names = ['sato','suzuki','takahashi']\n",
        "print(names)\n",
        "print(names[2])\n",
        "print(names[-1])"
      ],
      "metadata": {
        "colab": {
          "base_uri": "https://localhost:8080/"
        },
        "id": "TAKeWqFNCiBo",
        "outputId": "9790e280-a0ae-4957-f636-73e7d9b6be17"
      },
      "execution_count": null,
      "outputs": [
        {
          "output_type": "stream",
          "name": "stdout",
          "text": [
            "['sato', 'suzuki', 'takahashi']\n",
            "takahashi\n",
            "takahashi\n"
          ]
        }
      ]
    },
    {
      "cell_type": "code",
      "source": [
        "nums = [0,1,2,3,4,5,6]\n",
        "print(nums[::2])\n",
        "print(nums[1:2])\n",
        "print(nums[1:4])\n",
        "print(nums[1:-1])\n",
        "print(nums[::-1])"
      ],
      "metadata": {
        "colab": {
          "base_uri": "https://localhost:8080/"
        },
        "id": "pNnfXbujSFyk",
        "outputId": "0f93bc90-98c7-4feb-a0e4-6152f3521d23"
      },
      "execution_count": null,
      "outputs": [
        {
          "output_type": "stream",
          "name": "stdout",
          "text": [
            "[0, 2, 4, 6]\n",
            "[1]\n",
            "[1, 2, 3]\n",
            "[1, 2, 3, 4, 5]\n",
            "[6, 5, 4, 3, 2, 1, 0]\n"
          ]
        }
      ]
    },
    {
      "cell_type": "code",
      "source": [
        "names = ['sato','suzuki','takahashi']\n",
        "names = names * 2\n",
        "print(names)"
      ],
      "metadata": {
        "colab": {
          "base_uri": "https://localhost:8080/"
        },
        "id": "tDdvxP96SqtF",
        "outputId": "3e58fd85-b88a-40e8-d5a0-c76ec4a31f24"
      },
      "execution_count": null,
      "outputs": [
        {
          "output_type": "stream",
          "name": "stdout",
          "text": [
            "['sato', 'suzuki', 'takahashi', 'sato', 'suzuki', 'takahashi']\n"
          ]
        }
      ]
    },
    {
      "cell_type": "code",
      "source": [
        "nums = [0,1,2,3,4,5,6]\n",
        "\n",
        "nums.append(7)\n",
        "\n",
        "print(nums)\n",
        "\n",
        "name = []\n",
        "\n",
        "name.extend('takahashi')\n",
        "\n",
        "print(name)"
      ],
      "metadata": {
        "colab": {
          "base_uri": "https://localhost:8080/"
        },
        "id": "_6DIc76lSzPd",
        "outputId": "24e45aa6-e2d6-4785-fdb7-ef1a97022cc1"
      },
      "execution_count": null,
      "outputs": [
        {
          "output_type": "stream",
          "name": "stdout",
          "text": [
            "[0, 1, 2, 3, 4, 5, 6, 7]\n",
            "['t', 'a', 'k', 'a', 'h', 'a', 's', 'h', 'i']\n"
          ]
        }
      ]
    },
    {
      "cell_type": "code",
      "source": [
        "nums = [0,1,2,3,4,5,6]\n",
        "\n",
        "nums.insert(1, 0.5)\n",
        "\n",
        "print(nums)"
      ],
      "metadata": {
        "colab": {
          "base_uri": "https://localhost:8080/"
        },
        "id": "2o_SgBriS3uN",
        "outputId": "4f485aff-96ce-48eb-fa5c-854371a02475"
      },
      "execution_count": null,
      "outputs": [
        {
          "output_type": "stream",
          "name": "stdout",
          "text": [
            "[0, 0.5, 1, 2, 3, 4, 5, 6]\n"
          ]
        }
      ]
    },
    {
      "cell_type": "code",
      "source": [
        "nums = [0,1,2,3,4,5,6]\n",
        "\n",
        "nums.pop(0)\n",
        "\n",
        "print(nums)\n",
        "\n",
        "nums.remove(5)\n",
        "\n",
        "print(nums)\n",
        "\n",
        "nums.clear()\n",
        "\n",
        "print(nums)"
      ],
      "metadata": {
        "colab": {
          "base_uri": "https://localhost:8080/"
        },
        "id": "9dz0-4qPTTuJ",
        "outputId": "37000220-e991-49cf-cd51-50e6e3468d28"
      },
      "execution_count": null,
      "outputs": [
        {
          "output_type": "stream",
          "name": "stdout",
          "text": [
            "[1, 2, 3, 4, 5, 6]\n",
            "[1, 2, 3, 4, 6]\n",
            "[]\n"
          ]
        }
      ]
    },
    {
      "cell_type": "code",
      "source": [
        "names = ['sato','suzuki','takahashi']\n",
        "\n",
        "print('suzuki' in names)\n",
        "print('susuki' in names)"
      ],
      "metadata": {
        "colab": {
          "base_uri": "https://localhost:8080/"
        },
        "id": "1mwYFoEKTqua",
        "outputId": "54423c03-6e28-45a3-a3fc-95225d1315e5"
      },
      "execution_count": null,
      "outputs": [
        {
          "output_type": "stream",
          "name": "stdout",
          "text": [
            "True\n",
            "False\n"
          ]
        }
      ]
    },
    {
      "cell_type": "code",
      "source": [
        "names = ['sato','suzuki','sato','takahashi']\n",
        "\n",
        "print(names.count('sato'))\n",
        "print(names.index('suzuki'))"
      ],
      "metadata": {
        "colab": {
          "base_uri": "https://localhost:8080/"
        },
        "id": "5FG3wPoeUAP7",
        "outputId": "cf70897d-0c38-4855-948b-3a4949a4b241"
      },
      "execution_count": null,
      "outputs": [
        {
          "output_type": "stream",
          "name": "stdout",
          "text": [
            "2\n",
            "1\n"
          ]
        }
      ]
    },
    {
      "cell_type": "code",
      "source": [
        "nums = [3,8,2,0,5,4,1,7,6]\n",
        "\n",
        "print(nums)\n",
        "\n",
        "nums.sort()\n",
        "\n",
        "print(nums)\n",
        "\n",
        "nums.sort(reverse=True)\n",
        "\n",
        "print(nums)\n",
        "\n",
        "nums.reverse()\n",
        "\n",
        "print(nums)"
      ],
      "metadata": {
        "colab": {
          "base_uri": "https://localhost:8080/"
        },
        "id": "KPp5k__oUTz_",
        "outputId": "3d36352a-7bb6-43c0-843d-618b785cabde"
      },
      "execution_count": null,
      "outputs": [
        {
          "output_type": "stream",
          "name": "stdout",
          "text": [
            "[3, 8, 2, 0, 5, 4, 1, 7, 6]\n",
            "[0, 1, 2, 3, 4, 5, 6, 7, 8]\n",
            "[8, 7, 6, 5, 4, 3, 2, 1, 0]\n",
            "[0, 1, 2, 3, 4, 5, 6, 7, 8]\n"
          ]
        }
      ]
    },
    {
      "cell_type": "code",
      "source": [
        "nums = [3,8,2,0,5,4,1,7,6]\n",
        "\n",
        "print(min(nums))\n",
        "print(max(nums))"
      ],
      "metadata": {
        "colab": {
          "base_uri": "https://localhost:8080/"
        },
        "id": "tgEKXd6PUoD7",
        "outputId": "13f7b9e3-6fc2-4792-a7ae-ef958b5b9ad3"
      },
      "execution_count": null,
      "outputs": [
        {
          "output_type": "stream",
          "name": "stdout",
          "text": [
            "0\n",
            "8\n"
          ]
        }
      ]
    },
    {
      "cell_type": "code",
      "source": [
        "nums = [3,8,2,0,5,4,1,7,6]\n",
        "\n",
        "print(nums.index(max(nums)))"
      ],
      "metadata": {
        "colab": {
          "base_uri": "https://localhost:8080/"
        },
        "id": "NsVWIw1QUpwf",
        "outputId": "8c8f5a77-a343-46c6-9cc1-697b4a8e2990"
      },
      "execution_count": null,
      "outputs": [
        {
          "output_type": "stream",
          "name": "stdout",
          "text": [
            "1\n"
          ]
        }
      ]
    },
    {
      "cell_type": "code",
      "source": [
        "nums = [3,8,2,0,5,4,1,7,6]\n",
        "\n",
        "print(len(nums))"
      ],
      "metadata": {
        "colab": {
          "base_uri": "https://localhost:8080/"
        },
        "id": "VHUqSTb4VAJK",
        "outputId": "00b83c4e-c037-44b3-8b4b-9d236514b5a4"
      },
      "execution_count": null,
      "outputs": [
        {
          "output_type": "stream",
          "name": "stdout",
          "text": [
            "9\n"
          ]
        }
      ]
    },
    {
      "cell_type": "code",
      "source": [
        "# タプル"
      ],
      "metadata": {
        "id": "nZUbNAu_VB5a"
      },
      "execution_count": null,
      "outputs": []
    },
    {
      "cell_type": "code",
      "source": [
        "taple = ('value1', 'value2', 'value3')\n",
        "\n",
        "print(taple)\n",
        "print(taple[0])\n",
        "print(type(taple))"
      ],
      "metadata": {
        "colab": {
          "base_uri": "https://localhost:8080/"
        },
        "id": "8M1zRq5MVIh8",
        "outputId": "64fa09f0-cda2-4590-8630-11aac10e8c10"
      },
      "execution_count": null,
      "outputs": [
        {
          "output_type": "stream",
          "name": "stdout",
          "text": [
            "('value1', 'value2', 'value3')\n",
            "value1\n",
            "<class 'tuple'>\n"
          ]
        }
      ]
    },
    {
      "cell_type": "code",
      "source": [
        "taple = ('value1', 'value2', 'value3')\n",
        "\n",
        "taple[0] = 'value4'\n",
        "\n",
        "print(taple)"
      ],
      "metadata": {
        "colab": {
          "base_uri": "https://localhost:8080/",
          "height": 250
        },
        "id": "Qe6dahIWVzND",
        "outputId": "b36c521a-a96f-4a9e-e194-55dc2f0025fe"
      },
      "execution_count": null,
      "outputs": [
        {
          "output_type": "error",
          "ename": "TypeError",
          "evalue": "ignored",
          "traceback": [
            "\u001b[0;31m---------------------------------------------------------------------------\u001b[0m",
            "\u001b[0;31mTypeError\u001b[0m                                 Traceback (most recent call last)",
            "\u001b[0;32m<ipython-input-59-b8edd81752a2>\u001b[0m in \u001b[0;36m<cell line: 3>\u001b[0;34m()\u001b[0m\n\u001b[1;32m      1\u001b[0m \u001b[0mtaple\u001b[0m \u001b[0;34m=\u001b[0m \u001b[0;34m(\u001b[0m\u001b[0;34m'value1'\u001b[0m\u001b[0;34m,\u001b[0m \u001b[0;34m'value2'\u001b[0m\u001b[0;34m,\u001b[0m \u001b[0;34m'value3'\u001b[0m\u001b[0;34m)\u001b[0m\u001b[0;34m\u001b[0m\u001b[0;34m\u001b[0m\u001b[0m\n\u001b[1;32m      2\u001b[0m \u001b[0;34m\u001b[0m\u001b[0m\n\u001b[0;32m----> 3\u001b[0;31m \u001b[0mtaple\u001b[0m\u001b[0;34m[\u001b[0m\u001b[0;36m0\u001b[0m\u001b[0;34m]\u001b[0m \u001b[0;34m=\u001b[0m \u001b[0;34m'value4'\u001b[0m\u001b[0;34m\u001b[0m\u001b[0;34m\u001b[0m\u001b[0m\n\u001b[0m\u001b[1;32m      4\u001b[0m \u001b[0;34m\u001b[0m\u001b[0m\n\u001b[1;32m      5\u001b[0m \u001b[0mprint\u001b[0m\u001b[0;34m(\u001b[0m\u001b[0mtaple\u001b[0m\u001b[0;34m)\u001b[0m\u001b[0;34m\u001b[0m\u001b[0;34m\u001b[0m\u001b[0m\n",
            "\u001b[0;31mTypeError\u001b[0m: 'tuple' object does not support item assignment"
          ]
        }
      ]
    },
    {
      "cell_type": "code",
      "source": [
        "print(taple)"
      ],
      "metadata": {
        "colab": {
          "base_uri": "https://localhost:8080/"
        },
        "id": "n9cP96NbV65-",
        "outputId": "58836298-491c-4e68-b609-f26879ad119c"
      },
      "execution_count": null,
      "outputs": [
        {
          "output_type": "stream",
          "name": "stdout",
          "text": [
            "('value1', 'value2', 'value3')\n"
          ]
        }
      ]
    },
    {
      "cell_type": "code",
      "source": [
        "taple.append('value2')"
      ],
      "metadata": {
        "colab": {
          "base_uri": "https://localhost:8080/",
          "height": 180
        },
        "id": "MxcfUTOpWKTj",
        "outputId": "f79ed9d5-ee67-4e88-b0ef-00f2525deaa9"
      },
      "execution_count": null,
      "outputs": [
        {
          "output_type": "error",
          "ename": "AttributeError",
          "evalue": "ignored",
          "traceback": [
            "\u001b[0;31m---------------------------------------------------------------------------\u001b[0m",
            "\u001b[0;31mAttributeError\u001b[0m                            Traceback (most recent call last)",
            "\u001b[0;32m<ipython-input-63-8a25b29f945b>\u001b[0m in \u001b[0;36m<cell line: 1>\u001b[0;34m()\u001b[0m\n\u001b[0;32m----> 1\u001b[0;31m \u001b[0mtaple\u001b[0m\u001b[0;34m.\u001b[0m\u001b[0mappend\u001b[0m\u001b[0;34m(\u001b[0m\u001b[0;34m'value2'\u001b[0m\u001b[0;34m)\u001b[0m\u001b[0;34m\u001b[0m\u001b[0;34m\u001b[0m\u001b[0m\n\u001b[0m",
            "\u001b[0;31mAttributeError\u001b[0m: 'tuple' object has no attribute 'append'"
          ]
        }
      ]
    },
    {
      "cell_type": "code",
      "source": [
        "print(taple.index('value1'))\n",
        "print(taple.index('value4'))"
      ],
      "metadata": {
        "colab": {
          "base_uri": "https://localhost:8080/",
          "height": 215
        },
        "id": "3DkjaLHeWV6l",
        "outputId": "5d60c3c0-005b-4c49-ab4e-5c4fe4c5fdd8"
      },
      "execution_count": null,
      "outputs": [
        {
          "output_type": "stream",
          "name": "stdout",
          "text": [
            "0\n"
          ]
        },
        {
          "output_type": "error",
          "ename": "ValueError",
          "evalue": "ignored",
          "traceback": [
            "\u001b[0;31m---------------------------------------------------------------------------\u001b[0m",
            "\u001b[0;31mValueError\u001b[0m                                Traceback (most recent call last)",
            "\u001b[0;32m<ipython-input-65-03ac44c07e66>\u001b[0m in \u001b[0;36m<cell line: 2>\u001b[0;34m()\u001b[0m\n\u001b[1;32m      1\u001b[0m \u001b[0mprint\u001b[0m\u001b[0;34m(\u001b[0m\u001b[0mtaple\u001b[0m\u001b[0;34m.\u001b[0m\u001b[0mindex\u001b[0m\u001b[0;34m(\u001b[0m\u001b[0;34m'value1'\u001b[0m\u001b[0;34m)\u001b[0m\u001b[0;34m)\u001b[0m\u001b[0;34m\u001b[0m\u001b[0;34m\u001b[0m\u001b[0m\n\u001b[0;32m----> 2\u001b[0;31m \u001b[0mprint\u001b[0m\u001b[0;34m(\u001b[0m\u001b[0mtaple\u001b[0m\u001b[0;34m.\u001b[0m\u001b[0mindex\u001b[0m\u001b[0;34m(\u001b[0m\u001b[0;34m'value4'\u001b[0m\u001b[0;34m)\u001b[0m\u001b[0;34m)\u001b[0m\u001b[0;34m\u001b[0m\u001b[0;34m\u001b[0m\u001b[0m\n\u001b[0m",
            "\u001b[0;31mValueError\u001b[0m: tuple.index(x): x not in tuple"
          ]
        }
      ]
    },
    {
      "cell_type": "code",
      "source": [
        "print(taple.count('value1'))\n",
        "print(taple.count('value4'))"
      ],
      "metadata": {
        "colab": {
          "base_uri": "https://localhost:8080/"
        },
        "id": "B77VbnoWWcZV",
        "outputId": "2bab5b6a-723a-4cc1-919b-e3ef3dde2821"
      },
      "execution_count": null,
      "outputs": [
        {
          "output_type": "stream",
          "name": "stdout",
          "text": [
            "1\n",
            "0\n"
          ]
        }
      ]
    },
    {
      "cell_type": "code",
      "source": [
        "print('value1' in taple)\n",
        "print('value4' in taple)"
      ],
      "metadata": {
        "colab": {
          "base_uri": "https://localhost:8080/"
        },
        "id": "aSIuxk6AWiXY",
        "outputId": "7c42cee5-6071-4191-c31a-f31ca310ac3b"
      },
      "execution_count": null,
      "outputs": [
        {
          "output_type": "stream",
          "name": "stdout",
          "text": [
            "True\n",
            "False\n"
          ]
        }
      ]
    },
    {
      "cell_type": "code",
      "source": [
        "print(sorted(taple))\n",
        "print(sorted(taple, reverse=True))"
      ],
      "metadata": {
        "colab": {
          "base_uri": "https://localhost:8080/"
        },
        "id": "FsqyyVH9WqKd",
        "outputId": "0ea8350f-5ab1-4bb9-effc-093ab4c0ee91"
      },
      "execution_count": null,
      "outputs": [
        {
          "output_type": "stream",
          "name": "stdout",
          "text": [
            "['value1', 'value2', 'value3']\n",
            "['value3', 'value2', 'value1']\n"
          ]
        }
      ]
    },
    {
      "cell_type": "code",
      "source": [
        "# 辞書型"
      ],
      "metadata": {
        "id": "SW4VbJy1XBUY"
      },
      "execution_count": null,
      "outputs": []
    },
    {
      "cell_type": "code",
      "source": [
        "d = {'key1':'value1','key2':2}\n",
        "print(d)\n",
        "\n",
        "d2 = dict(key1='value1',key2=2)\n",
        "print(d2)"
      ],
      "metadata": {
        "colab": {
          "base_uri": "https://localhost:8080/"
        },
        "id": "xkbS2uixXdPF",
        "outputId": "09f84ee3-5fee-40a0-cde3-a0fc86a30564"
      },
      "execution_count": null,
      "outputs": [
        {
          "output_type": "stream",
          "name": "stdout",
          "text": [
            "{'key1': 'value1', 'key2': 2}\n",
            "{'key1': 'value1', 'key2': 2}\n"
          ]
        }
      ]
    },
    {
      "cell_type": "code",
      "source": [
        "d = {'key01':'value01','key02':'value02','key03':'value03','key04':'value04'}"
      ],
      "metadata": {
        "id": "6ksBoDN8Yjkw"
      },
      "execution_count": null,
      "outputs": []
    },
    {
      "cell_type": "code",
      "source": [
        "print(\"print d ==>\",d)\n",
        "print(\"print d.keys ==>\",d.keys())\n",
        "print(\"print d.values ==>\",d.values())"
      ],
      "metadata": {
        "colab": {
          "base_uri": "https://localhost:8080/"
        },
        "id": "TSz3mGKJYveJ",
        "outputId": "38ff3122-5a8c-454e-87c1-3dc88a35a1fb"
      },
      "execution_count": null,
      "outputs": [
        {
          "output_type": "stream",
          "name": "stdout",
          "text": [
            "print d ==> {'key01': 'value01', 'key02': 'value02', 'key03': 'value03', 'key04': 'value04'}\n",
            "print d.keys ==> dict_keys(['key01', 'key02', 'key03', 'key04'])\n",
            "print d.values ==> dict_values(['value01', 'value02', 'value03', 'value04'])\n"
          ]
        }
      ]
    },
    {
      "cell_type": "code",
      "source": [
        "print(d['key01'])\n",
        "d['key01'] = 'value01+'\n",
        "print(d['key01'])"
      ],
      "metadata": {
        "colab": {
          "base_uri": "https://localhost:8080/"
        },
        "id": "5IryuwUyZBsE",
        "outputId": "313249a0-feac-4dea-97a5-9041f3628d51"
      },
      "execution_count": null,
      "outputs": [
        {
          "output_type": "stream",
          "name": "stdout",
          "text": [
            "value01\n",
            "value01+\n"
          ]
        }
      ]
    },
    {
      "cell_type": "code",
      "source": [
        "print(d)\n",
        "d['key05'] = 'value05'\n",
        "print(d)"
      ],
      "metadata": {
        "colab": {
          "base_uri": "https://localhost:8080/"
        },
        "id": "yDC6QCfMZIMg",
        "outputId": "4681c5d0-e744-41b0-9061-96ef4570bb35"
      },
      "execution_count": null,
      "outputs": [
        {
          "output_type": "stream",
          "name": "stdout",
          "text": [
            "{'key01': 'value01+', 'key02': 'value02', 'key03': 'value03', 'key04': 'value04'}\n",
            "{'key01': 'value01+', 'key02': 'value02', 'key03': 'value03', 'key04': 'value04', 'key05': 'value05'}\n"
          ]
        }
      ]
    },
    {
      "cell_type": "code",
      "source": [
        "d2 = {'d2Key01':'d2Value01','d2Key02':'dsValue02'}\n",
        "d.update(d2)\n",
        "print(d)"
      ],
      "metadata": {
        "colab": {
          "base_uri": "https://localhost:8080/"
        },
        "id": "WOsKF4XDZaez",
        "outputId": "c965fa79-2c65-431a-bf2e-8e8f0f19e013"
      },
      "execution_count": null,
      "outputs": [
        {
          "output_type": "stream",
          "name": "stdout",
          "text": [
            "{'key01': 'value01+', 'key02': 'value02', 'key03': 'value03', 'key04': 'value04', 'key05': 'value05', 'd2Key01': 'd2Value01', 'd2Key02': 'dsValue02'}\n"
          ]
        }
      ]
    },
    {
      "cell_type": "code",
      "source": [
        "del d['d2Key01'], d['d2Key02']\n",
        "print(d)\n",
        "\n",
        "d.pop('key04')\n",
        "print(d)"
      ],
      "metadata": {
        "colab": {
          "base_uri": "https://localhost:8080/"
        },
        "id": "t9nY4VIsZuK3",
        "outputId": "8f1b8127-d522-4067-b81e-af5143d4a63b"
      },
      "execution_count": null,
      "outputs": [
        {
          "output_type": "stream",
          "name": "stdout",
          "text": [
            "{'key01': 'value01+', 'key02': 'value02', 'key03': 'value03', 'key04': 'value04', 'key05': 'value05'}\n",
            "{'key01': 'value01+', 'key02': 'value02', 'key03': 'value03', 'key05': 'value05'}\n"
          ]
        }
      ]
    },
    {
      "cell_type": "code",
      "source": [
        "d.clear()\n",
        "print(d)"
      ],
      "metadata": {
        "colab": {
          "base_uri": "https://localhost:8080/"
        },
        "id": "l-iYF8kPaHOE",
        "outputId": "680f6d56-7dd4-47cc-e0b3-76ca96d43066"
      },
      "execution_count": null,
      "outputs": [
        {
          "output_type": "stream",
          "name": "stdout",
          "text": [
            "{}\n"
          ]
        }
      ]
    },
    {
      "cell_type": "code",
      "source": [
        "d = {'key01':'value01','key02':'value02','key03':'value03','key04':'value04'}"
      ],
      "metadata": {
        "id": "tqHiCS_SaPMN"
      },
      "execution_count": null,
      "outputs": []
    },
    {
      "cell_type": "code",
      "source": [
        "print('key02' in d)"
      ],
      "metadata": {
        "id": "853II-ENaTAP",
        "outputId": "1d4c797f-753e-4c2d-d903-0dc072d2afdd",
        "colab": {
          "base_uri": "https://localhost:8080/"
        }
      },
      "execution_count": null,
      "outputs": [
        {
          "output_type": "stream",
          "name": "stdout",
          "text": [
            "True\n"
          ]
        }
      ]
    },
    {
      "cell_type": "code",
      "source": [
        "# 集合\n",
        "\n",
        "# 要素に順番がない\n",
        "# 重複に意味がない\n",
        "\n",
        "# -> 重複した要素を削除したいときに使われる"
      ],
      "metadata": {
        "id": "Pex5PxgVaY1D"
      },
      "execution_count": 3,
      "outputs": []
    },
    {
      "cell_type": "code",
      "source": [
        "s = {0, 2, 1, 1, 2, 3, 1}\n",
        "print(s)\n",
        "print(type(s))"
      ],
      "metadata": {
        "colab": {
          "base_uri": "https://localhost:8080/"
        },
        "id": "qm4RiGIoFOUg",
        "outputId": "73f47418-9cb7-4b41-a975-34adbe0f57c0"
      },
      "execution_count": 6,
      "outputs": [
        {
          "output_type": "stream",
          "name": "stdout",
          "text": [
            "{0, 1, 2, 3}\n",
            "<class 'set'>\n"
          ]
        }
      ]
    },
    {
      "cell_type": "code",
      "source": [
        "s = {123, 1.23, (1,2,3), 123, \"123\"}\n",
        "print(s)"
      ],
      "metadata": {
        "colab": {
          "base_uri": "https://localhost:8080/"
        },
        "id": "oB-f46KuF7A5",
        "outputId": "1f2424d7-5b0f-4119-c8e2-c1f1f7e0596f"
      },
      "execution_count": 8,
      "outputs": [
        {
          "output_type": "stream",
          "name": "stdout",
          "text": [
            "{1.23, 123, '123', (1, 2, 3)}\n"
          ]
        }
      ]
    },
    {
      "cell_type": "code",
      "source": [
        "s = {123, 1.23, [1,2,3], 123, \"123\"}\n",
        "print(s)"
      ],
      "metadata": {
        "colab": {
          "base_uri": "https://localhost:8080/",
          "height": 197
        },
        "id": "vQtWXYSqGFWc",
        "outputId": "077d383b-e234-4023-a6b1-9e926238fa64"
      },
      "execution_count": 9,
      "outputs": [
        {
          "output_type": "error",
          "ename": "TypeError",
          "evalue": "ignored",
          "traceback": [
            "\u001b[0;31m---------------------------------------------------------------------------\u001b[0m",
            "\u001b[0;31mTypeError\u001b[0m                                 Traceback (most recent call last)",
            "\u001b[0;32m<ipython-input-9-d26a24141ce4>\u001b[0m in \u001b[0;36m<cell line: 1>\u001b[0;34m()\u001b[0m\n\u001b[0;32m----> 1\u001b[0;31m \u001b[0ms\u001b[0m \u001b[0;34m=\u001b[0m \u001b[0;34m{\u001b[0m\u001b[0;36m123\u001b[0m\u001b[0;34m,\u001b[0m \u001b[0;36m1.23\u001b[0m\u001b[0;34m,\u001b[0m \u001b[0;34m[\u001b[0m\u001b[0;36m1\u001b[0m\u001b[0;34m,\u001b[0m\u001b[0;36m2\u001b[0m\u001b[0;34m,\u001b[0m\u001b[0;36m3\u001b[0m\u001b[0;34m]\u001b[0m\u001b[0;34m,\u001b[0m \u001b[0;36m123\u001b[0m\u001b[0;34m,\u001b[0m \u001b[0;34m\"123\"\u001b[0m\u001b[0;34m}\u001b[0m\u001b[0;34m\u001b[0m\u001b[0;34m\u001b[0m\u001b[0m\n\u001b[0m\u001b[1;32m      2\u001b[0m \u001b[0mprint\u001b[0m\u001b[0;34m(\u001b[0m\u001b[0ms\u001b[0m\u001b[0;34m)\u001b[0m\u001b[0;34m\u001b[0m\u001b[0;34m\u001b[0m\u001b[0m\n",
            "\u001b[0;31mTypeError\u001b[0m: unhashable type: 'list'"
          ]
        }
      ]
    },
    {
      "cell_type": "code",
      "source": [
        "list = [0, 2, 1, 1, 2, 3, 3, 1, 2]\n",
        "s = set(list)\n",
        "\n",
        "print(list)\n",
        "print(s)"
      ],
      "metadata": {
        "colab": {
          "base_uri": "https://localhost:8080/"
        },
        "id": "9vNTBji6GIsp",
        "outputId": "ccf8edcc-9588-4af4-eb5c-67383e879fb0"
      },
      "execution_count": 11,
      "outputs": [
        {
          "output_type": "stream",
          "name": "stdout",
          "text": [
            "[0, 2, 1, 1, 2, 3, 3, 1, 2]\n",
            "{0, 1, 2, 3}\n"
          ]
        }
      ]
    },
    {
      "cell_type": "code",
      "source": [
        "s1 = set()\n",
        "s2 = {}\n",
        "\n",
        "print(type(s1))\n",
        "print(type(s2))"
      ],
      "metadata": {
        "colab": {
          "base_uri": "https://localhost:8080/"
        },
        "id": "W4ssWJAZGV7A",
        "outputId": "ceba19bb-4c03-4b55-c59b-68dbfe32da30"
      },
      "execution_count": 12,
      "outputs": [
        {
          "output_type": "stream",
          "name": "stdout",
          "text": [
            "<class 'set'>\n",
            "<class 'dict'>\n"
          ]
        }
      ]
    },
    {
      "cell_type": "code",
      "source": [
        "s = {0, 1, 2}\n",
        "s.add(3)\n",
        "\n",
        "print(s)\n",
        "\n",
        "s.remove(1)\n",
        "\n",
        "print(s)\n",
        "\n",
        "s.clear()\n",
        "print(s)"
      ],
      "metadata": {
        "colab": {
          "base_uri": "https://localhost:8080/"
        },
        "id": "JlD-0-rAGd-Z",
        "outputId": "e9012f73-dfce-4d39-ba7f-4acd8c091dc3"
      },
      "execution_count": 14,
      "outputs": [
        {
          "output_type": "stream",
          "name": "stdout",
          "text": [
            "{0, 1, 2, 3}\n",
            "{0, 2, 3}\n",
            "set()\n"
          ]
        }
      ]
    },
    {
      "cell_type": "code",
      "source": [
        "list = [0, 2, 1, 1, 2, 3, 3, 1, 2]\n",
        "fs = frozenset(list)\n",
        "\n",
        "print(fs)"
      ],
      "metadata": {
        "colab": {
          "base_uri": "https://localhost:8080/"
        },
        "id": "d2YkD-JSGiEm",
        "outputId": "0ae275f4-8490-4dc5-df02-ed23189e5f47"
      },
      "execution_count": 15,
      "outputs": [
        {
          "output_type": "stream",
          "name": "stdout",
          "text": [
            "frozenset({0, 1, 2, 3})\n"
          ]
        }
      ]
    },
    {
      "cell_type": "code",
      "source": [
        "fs.add(1)\n",
        "print(fs)"
      ],
      "metadata": {
        "colab": {
          "base_uri": "https://localhost:8080/",
          "height": 197
        },
        "id": "WQlvRGJZGywG",
        "outputId": "31db43ad-4ba2-43e9-deef-16644452ec43"
      },
      "execution_count": 16,
      "outputs": [
        {
          "output_type": "error",
          "ename": "AttributeError",
          "evalue": "ignored",
          "traceback": [
            "\u001b[0;31m---------------------------------------------------------------------------\u001b[0m",
            "\u001b[0;31mAttributeError\u001b[0m                            Traceback (most recent call last)",
            "\u001b[0;32m<ipython-input-16-83f3b3b86528>\u001b[0m in \u001b[0;36m<cell line: 1>\u001b[0;34m()\u001b[0m\n\u001b[0;32m----> 1\u001b[0;31m \u001b[0mfs\u001b[0m\u001b[0;34m.\u001b[0m\u001b[0madd\u001b[0m\u001b[0;34m(\u001b[0m\u001b[0;36m1\u001b[0m\u001b[0;34m)\u001b[0m\u001b[0;34m\u001b[0m\u001b[0;34m\u001b[0m\u001b[0m\n\u001b[0m\u001b[1;32m      2\u001b[0m \u001b[0mprint\u001b[0m\u001b[0;34m(\u001b[0m\u001b[0mfs\u001b[0m\u001b[0;34m)\u001b[0m\u001b[0;34m\u001b[0m\u001b[0;34m\u001b[0m\u001b[0m\n",
            "\u001b[0;31mAttributeError\u001b[0m: 'frozenset' object has no attribute 'add'"
          ]
        }
      ]
    },
    {
      "cell_type": "code",
      "source": [
        "fs.clear(fs)"
      ],
      "metadata": {
        "colab": {
          "base_uri": "https://localhost:8080/",
          "height": 180
        },
        "id": "NiI7XJPMG1gZ",
        "outputId": "aafe9e14-e3b2-403f-819d-9d078fa61a5d"
      },
      "execution_count": 17,
      "outputs": [
        {
          "output_type": "error",
          "ename": "AttributeError",
          "evalue": "ignored",
          "traceback": [
            "\u001b[0;31m---------------------------------------------------------------------------\u001b[0m",
            "\u001b[0;31mAttributeError\u001b[0m                            Traceback (most recent call last)",
            "\u001b[0;32m<ipython-input-17-27013b2d5134>\u001b[0m in \u001b[0;36m<cell line: 1>\u001b[0;34m()\u001b[0m\n\u001b[0;32m----> 1\u001b[0;31m \u001b[0mfs\u001b[0m\u001b[0;34m.\u001b[0m\u001b[0mclear\u001b[0m\u001b[0;34m(\u001b[0m\u001b[0mfs\u001b[0m\u001b[0;34m)\u001b[0m\u001b[0;34m\u001b[0m\u001b[0;34m\u001b[0m\u001b[0m\n\u001b[0m",
            "\u001b[0;31mAttributeError\u001b[0m: 'frozenset' object has no attribute 'clear'"
          ]
        }
      ]
    },
    {
      "cell_type": "code",
      "source": [
        "s1 = {0, 1, 2}\n",
        "s2 = {1, 2, 3}\n",
        "s3 = {2, 3, 4}\n",
        "\n",
        "# 和集合：どれか一つに含まれる\n",
        "ss1 = s1 | s2 | s3\n",
        "print(ss1)\n",
        "ss2 = s1.union(s2, s3)\n",
        "print(ss2)\n",
        "\n",
        "# 積集合：すべてに含まれる\n",
        "ss1 = s1 & s2 & s3\n",
        "print(ss1)\n",
        "ss2 = s1.intersection(s2, s3)\n",
        "print(ss2)\n",
        "\n",
        "# 差集合：一個にのみ含まれる\n",
        "ss1 = s1 - s2\n",
        "print(ss1)\n",
        "ss2 = s1.difference(s2)\n",
        "print(ss2)\n",
        "\n",
        "# 対象差集合：どちらかにのみ含まれる\n",
        "ss1 = s1 ^ s2\n",
        "print(ss1)\n",
        "ss2 = s1.symmetric_difference(s2)\n",
        "print(ss2)"
      ],
      "metadata": {
        "colab": {
          "base_uri": "https://localhost:8080/"
        },
        "id": "JF1Kps6DG3fN",
        "outputId": "af84ee19-c588-459e-8c18-2db90587e63c"
      },
      "execution_count": 23,
      "outputs": [
        {
          "output_type": "stream",
          "name": "stdout",
          "text": [
            "{0, 1, 2, 3, 4}\n",
            "{0, 1, 2, 3, 4}\n",
            "{2}\n",
            "{2}\n",
            "{0}\n",
            "{0}\n",
            "{0, 3}\n",
            "{0, 3}\n"
          ]
        }
      ]
    },
    {
      "cell_type": "code",
      "source": [
        "s1 = {0, 1, 2}\n",
        "s2 = {0, 1, 2, 3, 4}\n",
        "\n",
        "print(s1 <= s2)\n",
        "print(s1.issubset(s2))\n",
        "\n",
        "s3 = {2, 1, 0}\n",
        "print(s1 == s2)\n",
        "print(s1 == s3)\n",
        "\n",
        "print(s1 < s2)\n",
        "print(s1 < s3)\n",
        "\n",
        "print(s1.isdisjoint(s2))\n",
        "print(s1.isdisjoint(s3))"
      ],
      "metadata": {
        "colab": {
          "base_uri": "https://localhost:8080/"
        },
        "id": "LERMORuRIxgO",
        "outputId": "ef63ab6f-a9c2-4788-cbb2-22ec0666666a"
      },
      "execution_count": 29,
      "outputs": [
        {
          "output_type": "stream",
          "name": "stdout",
          "text": [
            "True\n",
            "True\n",
            "False\n",
            "True\n",
            "True\n",
            "False\n",
            "False\n",
            "False\n"
          ]
        }
      ]
    },
    {
      "cell_type": "code",
      "source": [
        "s = {1, 2, 3, 4, 5}\n",
        "\n",
        "print(1 in s)\n",
        "print(0 in s)"
      ],
      "metadata": {
        "colab": {
          "base_uri": "https://localhost:8080/"
        },
        "id": "O8E5j8F6Jgqf",
        "outputId": "721e46a2-1b7d-4b11-ccfc-21301ed6cf45"
      },
      "execution_count": 30,
      "outputs": [
        {
          "output_type": "stream",
          "name": "stdout",
          "text": [
            "True\n",
            "False\n"
          ]
        }
      ]
    },
    {
      "cell_type": "code",
      "source": [
        "s = {4, 2, 0, 3, 1}\n",
        "for i in s:\n",
        "  print(i)"
      ],
      "metadata": {
        "colab": {
          "base_uri": "https://localhost:8080/"
        },
        "id": "v97y2sHqJlvN",
        "outputId": "62708b94-36e1-4f46-c6da-341c8a994201"
      },
      "execution_count": 32,
      "outputs": [
        {
          "output_type": "stream",
          "name": "stdout",
          "text": [
            "0\n",
            "1\n",
            "2\n",
            "3\n",
            "4\n"
          ]
        }
      ]
    },
    {
      "cell_type": "code",
      "source": [],
      "metadata": {
        "id": "-5r5Fj-OJ2iK"
      },
      "execution_count": 34,
      "outputs": []
    },
    {
      "cell_type": "code",
      "source": [],
      "metadata": {
        "id": "kpSj_5lZJ8tV"
      },
      "execution_count": null,
      "outputs": []
    }
  ]
}