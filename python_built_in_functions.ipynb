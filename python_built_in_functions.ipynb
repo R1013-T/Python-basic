{
  "nbformat": 4,
  "nbformat_minor": 0,
  "metadata": {
    "colab": {
      "provenance": [],
      "authorship_tag": "ABX9TyMZPIhXGZx9tSPJQ4ie6lQD",
      "include_colab_link": true
    },
    "kernelspec": {
      "name": "python3",
      "display_name": "Python 3"
    },
    "language_info": {
      "name": "python"
    }
  },
  "cells": [
    {
      "cell_type": "markdown",
      "metadata": {
        "id": "view-in-github",
        "colab_type": "text"
      },
      "source": [
        "<a href=\"https://colab.research.google.com/github/R1013-T/Python-basic/blob/main/python_built_in_functions.ipynb\" target=\"_parent\"><img src=\"https://colab.research.google.com/assets/colab-badge.svg\" alt=\"Open In Colab\"/></a>"
      ]
    },
    {
      "cell_type": "code",
      "execution_count": 1,
      "metadata": {
        "id": "pOWe3uDzc7KF"
      },
      "outputs": [],
      "source": [
        "# 組み込み関数"
      ]
    },
    {
      "cell_type": "code",
      "source": [
        "print(\"Python\",\"Ruby\",\"Golang\")\n",
        "print(\"Java\")\n",
        "\n",
        "print(\"Python\",\"Ruby\",\"Golang\",sep=\"-\")\n",
        "\n",
        "print(\"Python\",\"Ruby\",\"Golang\",sep=\"-\",end=\"-\")\n",
        "print(\"Java\")"
      ],
      "metadata": {
        "id": "8WYuiZRRdA0K",
        "colab": {
          "base_uri": "https://localhost:8080/"
        },
        "outputId": "f283cd8a-7e21-495b-aeee-45f222587ba5"
      },
      "execution_count": 4,
      "outputs": [
        {
          "output_type": "stream",
          "name": "stdout",
          "text": [
            "Python Ruby Golang\n",
            "Java\n",
            "Python-Ruby-Golang\n",
            "Python-Ruby-Golang-Java\n"
          ]
        }
      ]
    },
    {
      "cell_type": "code",
      "source": [
        "print(type(\"Hello\"))\n",
        "\n",
        "print(type(\"Hello\") is str)\n",
        "print(type(\"Hello\") is int)"
      ],
      "metadata": {
        "colab": {
          "base_uri": "https://localhost:8080/"
        },
        "id": "rXVE6a9V_yyI",
        "outputId": "2f545426-dc37-426e-ced8-2c8f6b223ef5"
      },
      "execution_count": 5,
      "outputs": [
        {
          "output_type": "stream",
          "name": "stdout",
          "text": [
            "<class 'str'>\n",
            "True\n",
            "False\n"
          ]
        }
      ]
    },
    {
      "cell_type": "code",
      "source": [
        "a = \"10.0\"\n",
        "\n",
        "print(float(a))\n",
        "print(type(float(a)))"
      ],
      "metadata": {
        "colab": {
          "base_uri": "https://localhost:8080/"
        },
        "id": "eOuW71KH_610",
        "outputId": "dc4ad8f8-9675-4d9b-a043-6b321fb46532"
      },
      "execution_count": 6,
      "outputs": [
        {
          "output_type": "stream",
          "name": "stdout",
          "text": [
            "10.0\n",
            "<class 'float'>\n"
          ]
        }
      ]
    },
    {
      "cell_type": "code",
      "source": [
        "print(10 / 3)\n",
        "print(0.1 * 2 == 0.2)\n",
        "print(0.1 * 3 == 0.3)\n",
        "print()\n",
        "print(0.1 * 2)\n",
        "print(0.1 * 3)"
      ],
      "metadata": {
        "colab": {
          "base_uri": "https://localhost:8080/"
        },
        "id": "bZiecHb4AIw2",
        "outputId": "81026fe9-7b5a-4dc5-b593-9c6be9630e44"
      },
      "execution_count": 9,
      "outputs": [
        {
          "output_type": "stream",
          "name": "stdout",
          "text": [
            "3.3333333333333335\n",
            "True\n",
            "False\n",
            "\n",
            "0.2\n",
            "0.30000000000000004\n"
          ]
        }
      ]
    },
    {
      "cell_type": "code",
      "source": [
        "print(round(1.234, 2))\n",
        "\n",
        "print(round(1.5))\n",
        "print(round(2.5))\n",
        "print(round(2.501))"
      ],
      "metadata": {
        "colab": {
          "base_uri": "https://localhost:8080/"
        },
        "id": "8PoqQFJ1AZf6",
        "outputId": "37343b0a-39dc-4e40-df51-3539c17a65b3"
      },
      "execution_count": 11,
      "outputs": [
        {
          "output_type": "stream",
          "name": "stdout",
          "text": [
            "1.23\n",
            "2\n",
            "2\n",
            "3\n"
          ]
        }
      ]
    },
    {
      "cell_type": "code",
      "source": [
        "print(bool(2 > 1))\n",
        "print(bool(True))\n",
        "print(bool(1))\n",
        "print(bool(1 < 2))\n",
        "print(bool(False))\n",
        "print(bool(0))\n",
        "print(bool(\"\"))\n",
        "print(bool([]))"
      ],
      "metadata": {
        "colab": {
          "base_uri": "https://localhost:8080/"
        },
        "id": "KiipQITBAtbn",
        "outputId": "c7dfabb8-958c-4e4a-c2f0-c72c082b50ab"
      },
      "execution_count": 12,
      "outputs": [
        {
          "output_type": "stream",
          "name": "stdout",
          "text": [
            "True\n",
            "True\n",
            "True\n",
            "True\n",
            "False\n",
            "False\n",
            "False\n",
            "False\n"
          ]
        }
      ]
    },
    {
      "cell_type": "code",
      "source": [
        "print(len(\"Hello\"))\n",
        "print(len([1,2,3,4]))"
      ],
      "metadata": {
        "colab": {
          "base_uri": "https://localhost:8080/"
        },
        "id": "oel7GKXbBLCw",
        "outputId": "2868bcb5-0fcb-4559-890c-48e6caf5bebe"
      },
      "execution_count": 13,
      "outputs": [
        {
          "output_type": "stream",
          "name": "stdout",
          "text": [
            "5\n",
            "4\n"
          ]
        }
      ]
    },
    {
      "cell_type": "code",
      "source": [
        "print(sum([1,2,3]))\n",
        "\n",
        "print(sum([1,2,3],100))"
      ],
      "metadata": {
        "colab": {
          "base_uri": "https://localhost:8080/"
        },
        "id": "eKaXHiZxBR5J",
        "outputId": "4718f0fb-fb07-4402-889a-8537ac35a22c"
      },
      "execution_count": 18,
      "outputs": [
        {
          "output_type": "stream",
          "name": "stdout",
          "text": [
            "6\n",
            "106\n"
          ]
        }
      ]
    },
    {
      "cell_type": "code",
      "source": [
        "print(max([1,2,3,4,5]))\n",
        "print(max([\"Python\",\"JavaScript\",\"PHP\"]))\n",
        "\n",
        "print(max([\"Python\",\"JavaScript\",\"PHP\"],key=len))"
      ],
      "metadata": {
        "colab": {
          "base_uri": "https://localhost:8080/"
        },
        "id": "ayhKaT7iBgYT",
        "outputId": "aa81d01a-0432-4f00-f018-648192954c98"
      },
      "execution_count": 23,
      "outputs": [
        {
          "output_type": "stream",
          "name": "stdout",
          "text": [
            "5\n",
            "Python\n",
            "JavaScript\n"
          ]
        }
      ]
    },
    {
      "cell_type": "code",
      "source": [
        "print(range(5))\n",
        "print(type(range(5)))\n",
        "\n",
        "for i in range(5):\n",
        "  print(i)\n",
        "\n",
        "print()\n",
        "\n",
        "for i in range(5, 10, 2):\n",
        "  print(i)"
      ],
      "metadata": {
        "colab": {
          "base_uri": "https://localhost:8080/"
        },
        "id": "7iV88zIyBrUA",
        "outputId": "3511330b-5012-47a2-f1eb-d1ee3010e552"
      },
      "execution_count": 28,
      "outputs": [
        {
          "output_type": "stream",
          "name": "stdout",
          "text": [
            "range(0, 5)\n",
            "<class 'range'>\n",
            "0\n",
            "1\n",
            "2\n",
            "3\n",
            "4\n",
            "\n",
            "5\n",
            "7\n",
            "9\n"
          ]
        }
      ]
    },
    {
      "cell_type": "code",
      "source": [
        "names = [\"Tarou\", \"Jirou\", \"Saburou\"]\n",
        "numbers = [10, 100, 1000, 10000]\n",
        "\n",
        "print(zip(names, numbers))\n",
        "\n",
        "for i in zip(names, numbers):\n",
        "  print(i)\n",
        "\n",
        "print()\n",
        "\n",
        "for i,j in zip(names, numbers):\n",
        "  print(i)\n",
        "  print(j)"
      ],
      "metadata": {
        "colab": {
          "base_uri": "https://localhost:8080/"
        },
        "id": "euaynHzaCRCq",
        "outputId": "f9c24fea-c787-42de-b1f9-b61b1cd54c9e"
      },
      "execution_count": 32,
      "outputs": [
        {
          "output_type": "stream",
          "name": "stdout",
          "text": [
            "<zip object at 0x78b0751b5d40>\n",
            "('Tarou', 10)\n",
            "('Jirou', 100)\n",
            "('Saburou', 1000)\n",
            "\n",
            "Tarou\n",
            "10\n",
            "Jirou\n",
            "100\n",
            "Saburou\n",
            "1000\n"
          ]
        }
      ]
    },
    {
      "cell_type": "code",
      "source": [
        "names = [\"Tarou\", \"Jirou\", \"Saburou\"]\n",
        "\n",
        "print(enumerate(names))\n",
        "\n",
        "for i in enumerate(names):\n",
        "  print(i)\n",
        "\n",
        "\n",
        "print()\n",
        "\n",
        "for i, j in enumerate(names):\n",
        "  print(i)\n",
        "  print(j)"
      ],
      "metadata": {
        "colab": {
          "base_uri": "https://localhost:8080/"
        },
        "id": "UQYVA1rqDGL_",
        "outputId": "09f1fd95-5dc3-4024-e710-5a5ba29d9b11"
      },
      "execution_count": 34,
      "outputs": [
        {
          "output_type": "stream",
          "name": "stdout",
          "text": [
            "<enumerate object at 0x78b0752f5440>\n",
            "(0, 'Tarou')\n",
            "(1, 'Jirou')\n",
            "(2, 'Saburou')\n",
            "\n",
            "0\n",
            "Tarou\n",
            "1\n",
            "Jirou\n",
            "2\n",
            "Saburou\n"
          ]
        }
      ]
    },
    {
      "cell_type": "code",
      "source": [],
      "metadata": {
        "id": "vbvvAGVNDbNM"
      },
      "execution_count": null,
      "outputs": []
    }
  ]
}