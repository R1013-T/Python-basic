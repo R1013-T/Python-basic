{
  "nbformat": 4,
  "nbformat_minor": 0,
  "metadata": {
    "colab": {
      "provenance": [],
      "authorship_tag": "ABX9TyMEMRoav1NSh4stPsZc2/Je",
      "include_colab_link": true
    },
    "kernelspec": {
      "name": "python3",
      "display_name": "Python 3"
    },
    "language_info": {
      "name": "python"
    }
  },
  "cells": [
    {
      "cell_type": "markdown",
      "metadata": {
        "id": "view-in-github",
        "colab_type": "text"
      },
      "source": [
        "<a href=\"https://colab.research.google.com/github/R1013-T/Python-basic/blob/main/python_class.ipynb\" target=\"_parent\"><img src=\"https://colab.research.google.com/assets/colab-badge.svg\" alt=\"Open In Colab\"/></a>"
      ]
    },
    {
      "cell_type": "code",
      "source": [
        "# クラス"
      ],
      "metadata": {
        "id": "8Hr06DJrYDZd"
      },
      "execution_count": null,
      "outputs": []
    },
    {
      "cell_type": "code",
      "execution_count": 9,
      "metadata": {
        "id": "J1swfvIIYCqH",
        "colab": {
          "base_uri": "https://localhost:8080/"
        },
        "outputId": "5c73c593-3c11-43ab-c1ec-e82be1371a9a"
      },
      "outputs": [
        {
          "output_type": "stream",
          "name": "stdout",
          "text": [
            "50.0\n",
            "sato\n",
            "tanaka\n"
          ]
        }
      ],
      "source": [
        "class Student:\n",
        "\n",
        "  def __init__(self, name):\n",
        "    self.name = name\n",
        "\n",
        "  def avg(self, math, english):\n",
        "    print((math + english) / 2)\n",
        "\n",
        "a001 = Student(\"\")\n",
        "a001.avg(30, 70)\n",
        "\n",
        "a001.name = \"sato\"\n",
        "print(a001.name)\n",
        "\n",
        "a002 = Student(\"tanaka\")\n",
        "print(a002.name)"
      ]
    },
    {
      "cell_type": "code",
      "source": [
        "class Student:\n",
        "\n",
        "  def __init__(self, name):\n",
        "    self.name = name\n",
        "\n",
        "  def __del__(self):\n",
        "    print(\"DELETE!\")\n",
        "\n",
        "\n",
        "person = Student(\"Yamada\")\n",
        "person2 = person\n",
        "print(person.name)\n",
        "del person\n",
        "print(\"================\")"
      ],
      "metadata": {
        "id": "vZS_HBKCYK8M",
        "colab": {
          "base_uri": "https://localhost:8080/"
        },
        "outputId": "5296fbdd-a8cd-406f-da5a-8cc750bd4deb"
      },
      "execution_count": 18,
      "outputs": [
        {
          "output_type": "stream",
          "name": "stdout",
          "text": [
            "Yamada\n",
            "================\n",
            "DELETE!\n"
          ]
        }
      ]
    },
    {
      "cell_type": "code",
      "source": [
        "class Student:\n",
        "  def math(self, score):\n",
        "    print(\"math score ==>\",score)\n",
        "\n",
        "class Grade1(Student):\n",
        "  def english(self, score):\n",
        "    print(\"english score ==>\",score)\n",
        "\n",
        "\n",
        "studentA = Student()\n",
        "studentB = Grade1()\n",
        "\n",
        "studentA.math(50)\n",
        "studentB.math(50)\n",
        "studentB.english(70)"
      ],
      "metadata": {
        "colab": {
          "base_uri": "https://localhost:8080/"
        },
        "id": "GM5hhK2Gf4FC",
        "outputId": "18147a82-e9a3-4d22-c561-bbe85407ef86"
      },
      "execution_count": 21,
      "outputs": [
        {
          "output_type": "stream",
          "name": "stdout",
          "text": [
            "math score ==> 50\n",
            "math score ==> 50\n",
            "english score ==> 70\n"
          ]
        }
      ]
    },
    {
      "cell_type": "code",
      "source": [
        "class Student:\n",
        "  def __init__(self, name, age):\n",
        "    self.name = name\n",
        "    self.age = age\n",
        "\n",
        "  def math(self, score):\n",
        "    print(\"math score ==>\",score)\n",
        "\n",
        "class Grade1(Student):\n",
        "  def __init__(self, name, age):\n",
        "    self.name = name\n",
        "    self.age = age\n",
        "    print(\"Name ==>\",self.name)\n",
        "    print(\"Age ==>\",self.age)\n",
        "\n",
        "  def english(self, score):\n",
        "    print(\"english score ==>\",score)\n",
        "\n",
        "studentA = Student(\"Yamada\", 15)\n",
        "studentB = Grade1(\"Sato\", 12 )"
      ],
      "metadata": {
        "colab": {
          "base_uri": "https://localhost:8080/"
        },
        "id": "OgmsjIOCg6aj",
        "outputId": "a198bd38-b9a1-424d-d083-29c1a34a4b12"
      },
      "execution_count": 26,
      "outputs": [
        {
          "output_type": "stream",
          "name": "stdout",
          "text": [
            "Name ==> Sato\n",
            "Age ==> 12\n"
          ]
        }
      ]
    },
    {
      "cell_type": "code",
      "source": [
        "class Student:\n",
        "  def __init__(self, name, age):\n",
        "    self.name = name\n",
        "    self.age = age\n",
        "\n",
        "  def math(self, score):\n",
        "    print(\"math score ==>\",score)\n",
        "\n",
        "class Grade1(Student):\n",
        "  def __init__(self, name, age):\n",
        "    super().__init__(name, age)\n",
        "    print(\"Name ==>\",self.name)\n",
        "    print(\"Age ==>\",self.age)\n",
        "\n",
        "  def english(self, score):\n",
        "    print(\"english score ==>\",score)\n",
        "\n",
        "studentA = Student(\"Yamada\", 15)\n",
        "studentB = Grade1(\"Sato\", 12 )"
      ],
      "metadata": {
        "colab": {
          "base_uri": "https://localhost:8080/"
        },
        "id": "HWRM7RWQhx4J",
        "outputId": "1d0cb790-f6d8-4557-9beb-6f7f3fe1cc69"
      },
      "execution_count": 28,
      "outputs": [
        {
          "output_type": "stream",
          "name": "stdout",
          "text": [
            "Name ==> Sato\n",
            "Age ==> 12\n"
          ]
        }
      ]
    },
    {
      "cell_type": "code",
      "source": [
        "class Student:\n",
        "\n",
        "  job = \"junior high school student\"\n",
        "  age = 20\n",
        "\n",
        "  def __init__(self, name, age):\n",
        "    self.name = name\n",
        "    self.age = age\n",
        "\n",
        "studentA = Student(\"Yamada\", 15)\n",
        "print(studentA.job)\n",
        "print(studentA.name)\n",
        "print(studentA.age )\n",
        "\n",
        "studentB = Student(\"Sato\", 12)\n",
        "print(studentB.job)\n",
        "print(studentB.name)\n",
        "print(studentB.age )\n",
        "\n",
        "print(Student.job)\n",
        "print(Student.age)"
      ],
      "metadata": {
        "colab": {
          "base_uri": "https://localhost:8080/"
        },
        "id": "Zrz87qtlh_lN",
        "outputId": "fec82328-ecbd-4e2a-da7f-3334b4f5f0b1"
      },
      "execution_count": 33,
      "outputs": [
        {
          "output_type": "stream",
          "name": "stdout",
          "text": [
            "junior high school student\n",
            "Yamada\n",
            "15\n",
            "junior high school student\n",
            "Sato\n",
            "12\n",
            "junior high school student\n",
            "20\n"
          ]
        }
      ]
    },
    {
      "cell_type": "code",
      "source": [
        "class Student:\n",
        "\n",
        "  job = \"junior high school student\"\n",
        "  age = 20\n",
        "\n",
        "  @classmethod\n",
        "  def add_age(cls):\n",
        "    cls.age += 1\n",
        "    return cls.age\n",
        "\n",
        "  def __init__(self, name, age):\n",
        "    self.name = name\n",
        "    self.age = age\n",
        "\n",
        "# print(Student.add_age())\n",
        "\n",
        "studentA = Student(\"Yamada\", 15)\n",
        "print(studentA.add_age())"
      ],
      "metadata": {
        "colab": {
          "base_uri": "https://localhost:8080/"
        },
        "id": "MlHVARqKjg4O",
        "outputId": "15642567-2aac-4530-ff49-c83b1b5db4e0"
      },
      "execution_count": 37,
      "outputs": [
        {
          "output_type": "stream",
          "name": "stdout",
          "text": [
            "21\n"
          ]
        }
      ]
    },
    {
      "cell_type": "code",
      "source": [
        "class Student:\n",
        "\n",
        "  job = \"junior high school student\"\n",
        "  age = 20\n",
        "\n",
        "  @classmethod\n",
        "  def add_age(cls):\n",
        "    cls.age += 1\n",
        "    return cls.age\n",
        "\n",
        "  @staticmethod\n",
        "  def greeting():\n",
        "    print(\"hello\")\n",
        "    print(f\"I am {Student.age}\")\n",
        "\n",
        "  def __init__(self, name, age):\n",
        "    self.name = name\n",
        "    self.age = age\n",
        "\n",
        "\n",
        "def _greeting():\n",
        "  print(\"hello\")\n",
        "  print(f\"I am {Student.age}\")\n",
        "\n",
        "\n",
        "\n",
        "Student.greeting()\n",
        "_greeting()"
      ],
      "metadata": {
        "colab": {
          "base_uri": "https://localhost:8080/"
        },
        "id": "1MhJt0mnkUFF",
        "outputId": "dfea5c08-7523-4ff2-9a3f-755695e46cc8"
      },
      "execution_count": 41,
      "outputs": [
        {
          "output_type": "stream",
          "name": "stdout",
          "text": [
            "hello\n",
            "I am 20\n",
            "hello\n",
            "I am 20\n"
          ]
        }
      ]
    },
    {
      "cell_type": "code",
      "source": [],
      "metadata": {
        "id": "-GHPN8DFlKQW"
      },
      "execution_count": null,
      "outputs": []
    }
  ]
}