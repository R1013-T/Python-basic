{
  "nbformat": 4,
  "nbformat_minor": 0,
  "metadata": {
    "colab": {
      "provenance": [],
      "authorship_tag": "ABX9TyMy4phOHUpUamJmK6LHejPa",
      "include_colab_link": true
    },
    "kernelspec": {
      "name": "python3",
      "display_name": "Python 3"
    },
    "language_info": {
      "name": "python"
    }
  },
  "cells": [
    {
      "cell_type": "markdown",
      "metadata": {
        "id": "view-in-github",
        "colab_type": "text"
      },
      "source": [
        "<a href=\"https://colab.research.google.com/github/R1013-T/Python-basic/blob/main/comprehension.ipynb\" target=\"_parent\"><img src=\"https://colab.research.google.com/assets/colab-badge.svg\" alt=\"Open In Colab\"/></a>"
      ]
    },
    {
      "cell_type": "code",
      "execution_count": 1,
      "metadata": {
        "id": "aJG6AKtfE4Ny"
      },
      "outputs": [],
      "source": [
        "# 内包表記"
      ]
    },
    {
      "cell_type": "code",
      "source": [
        "l1 = []\n",
        "for i in range(5):\n",
        "  l1.append(i)\n",
        "\n",
        "l2 = [i for i in range(5)]\n",
        "\n",
        "print(l1)\n",
        "print(l2)"
      ],
      "metadata": {
        "colab": {
          "base_uri": "https://localhost:8080/"
        },
        "id": "LUc6TSPjE9gc",
        "outputId": "9eab9b5b-65cf-4287-84a9-5ae8e7d222a9"
      },
      "execution_count": 2,
      "outputs": [
        {
          "output_type": "stream",
          "name": "stdout",
          "text": [
            "[0, 1, 2, 3, 4]\n",
            "[0, 1, 2, 3, 4]\n"
          ]
        }
      ]
    },
    {
      "cell_type": "code",
      "source": [
        "s = {i for i in range(5)}\n",
        "\n",
        "print(s)"
      ],
      "metadata": {
        "colab": {
          "base_uri": "https://localhost:8080/"
        },
        "id": "7hBwg_wAFa3Z",
        "outputId": "ba6451c5-0e57-4729-e4ed-edf2052b19a6"
      },
      "execution_count": 3,
      "outputs": [
        {
          "output_type": "stream",
          "name": "stdout",
          "text": [
            "{0, 1, 2, 3, 4}\n"
          ]
        }
      ]
    },
    {
      "cell_type": "code",
      "source": [
        "d = {i : i * 2 for i in range(5)}\n",
        "\n",
        "print(d)"
      ],
      "metadata": {
        "colab": {
          "base_uri": "https://localhost:8080/"
        },
        "id": "y7wpkGtOFq2H",
        "outputId": "940e136b-a3ce-4e1c-ab94-e94bcde2f650"
      },
      "execution_count": 4,
      "outputs": [
        {
          "output_type": "stream",
          "name": "stdout",
          "text": [
            "{0: 0, 1: 2, 2: 4, 3: 6, 4: 8}\n"
          ]
        }
      ]
    },
    {
      "cell_type": "code",
      "source": [
        "l = [i for i in range(10) if i % 2 == 0]\n",
        "\n",
        "print(l)"
      ],
      "metadata": {
        "colab": {
          "base_uri": "https://localhost:8080/"
        },
        "id": "i8dncY0DF5wV",
        "outputId": "852e2674-7589-4d3a-8723-cc6c091ab906"
      },
      "execution_count": 5,
      "outputs": [
        {
          "output_type": "stream",
          "name": "stdout",
          "text": [
            "[0, 2, 4, 6, 8]\n"
          ]
        }
      ]
    },
    {
      "cell_type": "code",
      "source": [
        "d = {i : \"even\" if i % 2 == 0 else \"odd\" for i in range(10)}\n",
        "\n",
        "print(d)"
      ],
      "metadata": {
        "colab": {
          "base_uri": "https://localhost:8080/"
        },
        "id": "8K1KAbZPGFqG",
        "outputId": "b8c52221-b629-475e-b6f0-3d9e70d2c98a"
      },
      "execution_count": 6,
      "outputs": [
        {
          "output_type": "stream",
          "name": "stdout",
          "text": [
            "{0: 'even', 1: 'odd', 2: 'even', 3: 'odd', 4: 'even', 5: 'odd', 6: 'even', 7: 'odd', 8: 'even', 9: 'odd'}\n"
          ]
        }
      ]
    },
    {
      "cell_type": "code",
      "source": [
        "l1 = []\n",
        "for i in (10, 100, 1000):\n",
        "  for j in (1, 2, 3):\n",
        "    l1.append(i + j)\n",
        "\n",
        "l2 = [i + j for i in (10, 100, 1000) for j in (1, 2 ,3)]\n",
        "\n",
        "print(l1)\n",
        "print(l2)"
      ],
      "metadata": {
        "colab": {
          "base_uri": "https://localhost:8080/"
        },
        "id": "o6NFTj6bGTlB",
        "outputId": "2eca3b88-aaee-41c4-d03f-85a121e0cbda"
      },
      "execution_count": 7,
      "outputs": [
        {
          "output_type": "stream",
          "name": "stdout",
          "text": [
            "[11, 12, 13, 101, 102, 103, 1001, 1002, 1003]\n",
            "[11, 12, 13, 101, 102, 103, 1001, 1002, 1003]\n"
          ]
        }
      ]
    },
    {
      "cell_type": "code",
      "source": [],
      "metadata": {
        "id": "GPtW0i4UGrEz"
      },
      "execution_count": null,
      "outputs": []
    }
  ]
}
