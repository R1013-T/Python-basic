{
  "nbformat": 4,
  "nbformat_minor": 0,
  "metadata": {
    "colab": {
      "provenance": [],
      "authorship_tag": "ABX9TyOrA1n1dZ78Xyyc6R5H9yI/",
      "include_colab_link": true
    },
    "kernelspec": {
      "name": "python3",
      "display_name": "Python 3"
    },
    "language_info": {
      "name": "python"
    }
  },
  "cells": [
    {
      "cell_type": "markdown",
      "metadata": {
        "id": "view-in-github",
        "colab_type": "text"
      },
      "source": [
        "<a href=\"https://colab.research.google.com/github/R1013-T/Python-basic/blob/main/python_conditional_branch.ipynb\" target=\"_parent\"><img src=\"https://colab.research.google.com/assets/colab-badge.svg\" alt=\"Open In Colab\"/></a>"
      ]
    },
    {
      "cell_type": "code",
      "execution_count": 1,
      "metadata": {
        "id": "faA-5_P5kL1r"
      },
      "outputs": [],
      "source": [
        "# 条件分岐"
      ]
    },
    {
      "cell_type": "code",
      "source": [
        "age = 19\n",
        "if age >= 20:\n",
        "  print('adult')\n",
        "else :\n",
        "  print('child')"
      ],
      "metadata": {
        "colab": {
          "base_uri": "https://localhost:8080/"
        },
        "id": "GS8pvooVkaF4",
        "outputId": "71ba519b-d096-4694-a7a2-d0b9e26d4001"
      },
      "execution_count": 6,
      "outputs": [
        {
          "output_type": "stream",
          "name": "stdout",
          "text": [
            "child\n"
          ]
        }
      ]
    },
    {
      "cell_type": "code",
      "source": [
        "age = 0\n",
        "if age >= 20:\n",
        "  print('adult')\n",
        "elif age == 0:\n",
        "  print('bady')\n",
        "else:\n",
        "  print('child')"
      ],
      "metadata": {
        "colab": {
          "base_uri": "https://localhost:8080/"
        },
        "id": "4StszaIDqqyG",
        "outputId": "45f0b368-1002-4304-f164-9943dce2468f"
      },
      "execution_count": 7,
      "outputs": [
        {
          "output_type": "stream",
          "name": "stdout",
          "text": [
            "bady\n"
          ]
        }
      ]
    },
    {
      "cell_type": "code",
      "source": [
        "fruit = 'orange'\n",
        "\n",
        "match fruit:\n",
        "  case \"apple\":\n",
        "    print(\"りんご\")\n",
        "  case \"orange\":\n",
        "    print(\"みかん\")\n",
        "  case _:\n",
        "    print(\"その他\")"
      ],
      "metadata": {
        "colab": {
          "base_uri": "https://localhost:8080/"
        },
        "id": "XXRr191vq_IN",
        "outputId": "88921703-f0ad-4e66-866a-dff9e3e30deb"
      },
      "execution_count": 8,
      "outputs": [
        {
          "output_type": "stream",
          "name": "stdout",
          "text": [
            "みかん\n"
          ]
        }
      ]
    },
    {
      "cell_type": "code",
      "source": [
        "age = 19\n",
        "if age >= 20:\n",
        "  print('adult')\n",
        "else :\n",
        "  pass"
      ],
      "metadata": {
        "id": "X0oVi4BasnUh"
      },
      "execution_count": 10,
      "outputs": []
    },
    {
      "cell_type": "code",
      "source": [
        "age = 18\n",
        "print(\"adult\" if age >= 20 else \"child\")"
      ],
      "metadata": {
        "colab": {
          "base_uri": "https://localhost:8080/"
        },
        "id": "NvCEYWxhsyoR",
        "outputId": "f0619c0f-e466-4c3d-d260-1e8e8d2191e9"
      },
      "execution_count": 12,
      "outputs": [
        {
          "output_type": "stream",
          "name": "stdout",
          "text": [
            "child\n"
          ]
        }
      ]
    },
    {
      "cell_type": "code",
      "source": [],
      "metadata": {
        "id": "16aaH1RGtAzW"
      },
      "execution_count": null,
      "outputs": []
    }
  ]
}