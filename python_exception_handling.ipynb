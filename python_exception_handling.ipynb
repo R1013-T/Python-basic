{
  "nbformat": 4,
  "nbformat_minor": 0,
  "metadata": {
    "colab": {
      "provenance": [],
      "authorship_tag": "ABX9TyM/TRnvt9iUtdZmgdjgzYk2",
      "include_colab_link": true
    },
    "kernelspec": {
      "name": "python3",
      "display_name": "Python 3"
    },
    "language_info": {
      "name": "python"
    }
  },
  "cells": [
    {
      "cell_type": "markdown",
      "metadata": {
        "id": "view-in-github",
        "colab_type": "text"
      },
      "source": [
        "<a href=\"https://colab.research.google.com/github/R1013-T/Python-basic/blob/main/python_exception_handling.ipynb\" target=\"_parent\"><img src=\"https://colab.research.google.com/assets/colab-badge.svg\" alt=\"Open In Colab\"/></a>"
      ]
    },
    {
      "cell_type": "code",
      "execution_count": 1,
      "metadata": {
        "id": "9L1dDKbEzvDT"
      },
      "outputs": [],
      "source": [
        "# 例外処理"
      ]
    },
    {
      "cell_type": "code",
      "source": [
        "a = 2\n",
        "b = 0\n",
        "print(\"Start\")\n",
        "print(a / b)\n",
        "print(\"Finish\")"
      ],
      "metadata": {
        "colab": {
          "base_uri": "https://localhost:8080/",
          "height": 249
        },
        "id": "cgrS1xkXC0Kg",
        "outputId": "d93cede3-1e13-4558-a2e1-7c16b1f15657"
      },
      "execution_count": 4,
      "outputs": [
        {
          "output_type": "stream",
          "name": "stdout",
          "text": [
            "Start\n"
          ]
        },
        {
          "output_type": "error",
          "ename": "ZeroDivisionError",
          "evalue": "ignored",
          "traceback": [
            "\u001b[0;31m---------------------------------------------------------------------------\u001b[0m",
            "\u001b[0;31mZeroDivisionError\u001b[0m                         Traceback (most recent call last)",
            "\u001b[0;32m<ipython-input-4-bf97c6c751d9>\u001b[0m in \u001b[0;36m<cell line: 4>\u001b[0;34m()\u001b[0m\n\u001b[1;32m      2\u001b[0m \u001b[0mb\u001b[0m \u001b[0;34m=\u001b[0m \u001b[0;36m0\u001b[0m\u001b[0;34m\u001b[0m\u001b[0;34m\u001b[0m\u001b[0m\n\u001b[1;32m      3\u001b[0m \u001b[0mprint\u001b[0m\u001b[0;34m(\u001b[0m\u001b[0;34m\"Start\"\u001b[0m\u001b[0;34m)\u001b[0m\u001b[0;34m\u001b[0m\u001b[0;34m\u001b[0m\u001b[0m\n\u001b[0;32m----> 4\u001b[0;31m \u001b[0mprint\u001b[0m\u001b[0;34m(\u001b[0m\u001b[0ma\u001b[0m \u001b[0;34m/\u001b[0m \u001b[0mb\u001b[0m\u001b[0;34m)\u001b[0m\u001b[0;34m\u001b[0m\u001b[0;34m\u001b[0m\u001b[0m\n\u001b[0m\u001b[1;32m      5\u001b[0m \u001b[0mprint\u001b[0m\u001b[0;34m(\u001b[0m\u001b[0;34m\"Finish\"\u001b[0m\u001b[0;34m)\u001b[0m\u001b[0;34m\u001b[0m\u001b[0;34m\u001b[0m\u001b[0m\n",
            "\u001b[0;31mZeroDivisionError\u001b[0m: division by zero"
          ]
        }
      ]
    },
    {
      "cell_type": "code",
      "source": [
        "print(\"Start\")\n",
        "try:\n",
        "  print(a / b)\n",
        "  print(\"Finish\")\n",
        "except:\n",
        "  print(\"0除算エラー\")"
      ],
      "metadata": {
        "colab": {
          "base_uri": "https://localhost:8080/"
        },
        "id": "ZKf-_RknDU-b",
        "outputId": "043459d7-6a6c-4662-bedd-d3ca671dcc1a"
      },
      "execution_count": 5,
      "outputs": [
        {
          "output_type": "stream",
          "name": "stdout",
          "text": [
            "Start\n",
            "0除算エラー\n",
            "Finish\n"
          ]
        }
      ]
    },
    {
      "cell_type": "code",
      "source": [
        "try:\n",
        "  print(a / b)\n",
        "except:\n",
        "  print(\"0除算エラー\")\n",
        "else:\n",
        "  print(\"Finish\")\n",
        "\n",
        "a = 2\n",
        "b = 1\n",
        "\n",
        "try:\n",
        "  print(a / b)\n",
        "except:\n",
        "  print(\"0除算エラー\")\n",
        "else:\n",
        "  print(\"Finish\")"
      ],
      "metadata": {
        "colab": {
          "base_uri": "https://localhost:8080/"
        },
        "id": "K8X4DN5YDpTI",
        "outputId": "76882317-7d56-4bbd-d2c2-4eff813e19d8"
      },
      "execution_count": 7,
      "outputs": [
        {
          "output_type": "stream",
          "name": "stdout",
          "text": [
            "0除算エラー\n",
            "2.0\n",
            "Finish\n"
          ]
        }
      ]
    },
    {
      "cell_type": "code",
      "source": [
        "a = 2\n",
        "b = 0\n",
        "\n",
        "try:\n",
        "  print(a / b)\n",
        "except:\n",
        "  print(\"0除算エラー\")\n",
        "else:\n",
        "  print(\"エラーなし\")\n",
        "finally:\n",
        "  print(\"Finish\")\n",
        "\n",
        "\n",
        "print(\"\\n========\\n\")\n",
        "\n",
        "a = 2\n",
        "b = 1\n",
        "\n",
        "try:\n",
        "  print(a / b)\n",
        "except:\n",
        "  print(\"0除算エラー\")\n",
        "else:\n",
        "  print(\"エラーなし\")\n",
        "finally:\n",
        "  print(\"Finish\")"
      ],
      "metadata": {
        "colab": {
          "base_uri": "https://localhost:8080/"
        },
        "id": "wXRMZqQZD-si",
        "outputId": "1146740c-4c34-4836-9bc7-6fc8a2d1f9d9"
      },
      "execution_count": 10,
      "outputs": [
        {
          "output_type": "stream",
          "name": "stdout",
          "text": [
            "0除算エラー\n",
            "Finish\n",
            "\n",
            "========\n",
            "\n",
            "2.0\n",
            "エラーなし\n",
            "Finish\n"
          ]
        }
      ]
    },
    {
      "cell_type": "code",
      "source": [
        "a = 2\n",
        "b = \"2\"\n",
        "\n",
        "try:\n",
        "  print(a / b)\n",
        "except ZeroDivisionError:\n",
        "  print(\"0除算エラー\")\n",
        "except TypeError:\n",
        "  print(\"データ型エラー\")"
      ],
      "metadata": {
        "colab": {
          "base_uri": "https://localhost:8080/"
        },
        "id": "Kjc2klbCEMlE",
        "outputId": "ab50daae-8247-498d-f0c0-2287d8152101"
      },
      "execution_count": 12,
      "outputs": [
        {
          "output_type": "stream",
          "name": "stdout",
          "text": [
            "データ型エラー\n"
          ]
        }
      ]
    },
    {
      "cell_type": "code",
      "source": [
        "a = 2\n",
        "b = \"2\"\n",
        "\n",
        "try:\n",
        "  print(a / b)\n",
        "except Exception as e:\n",
        "  print(e)\n",
        "finally:\n",
        "  print(\"Finish\")"
      ],
      "metadata": {
        "colab": {
          "base_uri": "https://localhost:8080/"
        },
        "id": "X70e1MIwEkQk",
        "outputId": "5969c432-0393-4bc4-dbe4-6dccde504373"
      },
      "execution_count": 13,
      "outputs": [
        {
          "output_type": "stream",
          "name": "stdout",
          "text": [
            "unsupported operand type(s) for /: 'int' and 'str'\n",
            "Finish\n"
          ]
        }
      ]
    },
    {
      "cell_type": "code",
      "source": [],
      "metadata": {
        "id": "n90BrQKoEv48"
      },
      "execution_count": null,
      "outputs": []
    }
  ]
}