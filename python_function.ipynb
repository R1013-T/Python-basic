{
  "nbformat": 4,
  "nbformat_minor": 0,
  "metadata": {
    "colab": {
      "provenance": [],
      "authorship_tag": "ABX9TyPCEpQAHs70ZDyTVa1+Ydcs",
      "include_colab_link": true
    },
    "kernelspec": {
      "name": "python3",
      "display_name": "Python 3"
    },
    "language_info": {
      "name": "python"
    }
  },
  "cells": [
    {
      "cell_type": "markdown",
      "metadata": {
        "id": "view-in-github",
        "colab_type": "text"
      },
      "source": [
        "<a href=\"https://colab.research.google.com/github/R1013-T/Python-basic/blob/main/python_function.ipynb\" target=\"_parent\"><img src=\"https://colab.research.google.com/assets/colab-badge.svg\" alt=\"Open In Colab\"/></a>"
      ]
    },
    {
      "cell_type": "code",
      "execution_count": 1,
      "metadata": {
        "id": "4rEcP3CSHHaq"
      },
      "outputs": [],
      "source": [
        "# 関数"
      ]
    },
    {
      "cell_type": "code",
      "source": [
        "def function01(arg):\n",
        "  n = arg * 10\n",
        "  print(n)\n",
        "\n",
        "function01(5)"
      ],
      "metadata": {
        "colab": {
          "base_uri": "https://localhost:8080/"
        },
        "id": "RstuzJ9GHMYE",
        "outputId": "22413edf-f4b1-4020-8afe-13a871fe5463"
      },
      "execution_count": 6,
      "outputs": [
        {
          "output_type": "stream",
          "name": "stdout",
          "text": [
            "50\n"
          ]
        }
      ]
    },
    {
      "cell_type": "code",
      "source": [
        "def say_hello():\n",
        "  print(\"Hello World !\")\n",
        "\n",
        "say_hello()"
      ],
      "metadata": {
        "colab": {
          "base_uri": "https://localhost:8080/"
        },
        "id": "WmWDwFMuNjD_",
        "outputId": "4284e9b3-2094-483f-9e11-cda3d5e3e4f0"
      },
      "execution_count": 7,
      "outputs": [
        {
          "output_type": "stream",
          "name": "stdout",
          "text": [
            "Hello World !\n"
          ]
        }
      ]
    },
    {
      "cell_type": "code",
      "source": [
        "def say(greeting):\n",
        "  print(f\"Hello {greeting} !\")\n",
        "\n",
        "say(\"World\")"
      ],
      "metadata": {
        "colab": {
          "base_uri": "https://localhost:8080/"
        },
        "id": "qBsdwNlgNsNt",
        "outputId": "3fcb4c1d-620b-4f98-f308-aad3d4e3322c"
      },
      "execution_count": 9,
      "outputs": [
        {
          "output_type": "stream",
          "name": "stdout",
          "text": [
            "Hello World !\n"
          ]
        }
      ]
    },
    {
      "cell_type": "code",
      "source": [
        "def say(greeting):\n",
        "  print(f\"Hello {greeting} !\")\n",
        "\n",
        "hello = say\n",
        "hello(\"World\")"
      ],
      "metadata": {
        "colab": {
          "base_uri": "https://localhost:8080/"
        },
        "id": "K3mcT5hyN6Hs",
        "outputId": "811d990e-93f4-479b-8035-3b487f8b0fae"
      },
      "execution_count": 10,
      "outputs": [
        {
          "output_type": "stream",
          "name": "stdout",
          "text": [
            "Hello World !\n"
          ]
        }
      ]
    },
    {
      "cell_type": "code",
      "source": [
        "def add(num01, num02):\n",
        "  print(num01 + num02)\n",
        "\n",
        "add(2,4)"
      ],
      "metadata": {
        "colab": {
          "base_uri": "https://localhost:8080/"
        },
        "id": "46fpc5C5ODIX",
        "outputId": "6f5d5816-b567-4216-929a-c7326d84a3b0"
      },
      "execution_count": 11,
      "outputs": [
        {
          "output_type": "stream",
          "name": "stdout",
          "text": [
            "6\n"
          ]
        }
      ]
    },
    {
      "cell_type": "code",
      "source": [
        "def add(num01, num02):\n",
        "  return(num01 + num02)\n",
        "\n",
        "print(add(2,4))\n",
        "result = add(2,4)\n",
        "print(result)"
      ],
      "metadata": {
        "colab": {
          "base_uri": "https://localhost:8080/"
        },
        "id": "hzQgG0Y8OMgU",
        "outputId": "2084dee3-6bcf-4ef9-b1ee-1f930c733799"
      },
      "execution_count": 12,
      "outputs": [
        {
          "output_type": "stream",
          "name": "stdout",
          "text": [
            "6\n",
            "6\n"
          ]
        }
      ]
    },
    {
      "cell_type": "code",
      "source": [
        "def hello(arg=\"World\"):\n",
        "  print(f\"Hello {arg} !\")\n",
        "\n",
        "hello()\n",
        "hello(\"Python\")"
      ],
      "metadata": {
        "colab": {
          "base_uri": "https://localhost:8080/"
        },
        "id": "jcgT5VL_OVht",
        "outputId": "c464678d-4e56-4af2-b15a-fb804b35a1d7"
      },
      "execution_count": 13,
      "outputs": [
        {
          "output_type": "stream",
          "name": "stdout",
          "text": [
            "Hello World !\n",
            "Hello Python !\n"
          ]
        }
      ]
    },
    {
      "cell_type": "code",
      "source": [
        "x = 1\n",
        "def show_number(a=x):\n",
        "  print(a)\n",
        "\n",
        "x = 10\n",
        "show_number()"
      ],
      "metadata": {
        "colab": {
          "base_uri": "https://localhost:8080/"
        },
        "id": "RoXxtRK-OjYF",
        "outputId": "0fd75dab-c082-4817-a810-114d72298b8d"
      },
      "execution_count": 14,
      "outputs": [
        {
          "output_type": "stream",
          "name": "stdout",
          "text": [
            "1\n"
          ]
        }
      ]
    },
    {
      "cell_type": "code",
      "source": [
        "def show_numbers(a, b, c):\n",
        "  print(f\"{a}\\n{b}\\n{c}\")\n",
        "\n",
        "show_numbers(a=1, c=3, b=2)"
      ],
      "metadata": {
        "colab": {
          "base_uri": "https://localhost:8080/"
        },
        "id": "yYX0mhhIO8sI",
        "outputId": "9682c80f-6d0e-4f7e-da6e-0c18577a3d7a"
      },
      "execution_count": 15,
      "outputs": [
        {
          "output_type": "stream",
          "name": "stdout",
          "text": [
            "1\n",
            "2\n",
            "3\n"
          ]
        }
      ]
    },
    {
      "cell_type": "code",
      "source": [
        "def show_numbers(a, b, *args):\n",
        "  print(a)\n",
        "  print(b)\n",
        "  print(args)\n",
        "  print(*args)\n",
        "  for i in args:\n",
        "    print(i)\n",
        "\n",
        "show_numbers(1, 2, 3, 4, 5, 6)"
      ],
      "metadata": {
        "colab": {
          "base_uri": "https://localhost:8080/"
        },
        "id": "khASK3OmPYS-",
        "outputId": "d5539de6-e156-4dec-c208-9978692b3dac"
      },
      "execution_count": 18,
      "outputs": [
        {
          "output_type": "stream",
          "name": "stdout",
          "text": [
            "1\n",
            "2\n",
            "(3, 4, 5, 6)\n",
            "3 4 5 6\n",
            "3\n",
            "4\n",
            "5\n",
            "6\n"
          ]
        }
      ]
    },
    {
      "cell_type": "code",
      "source": [
        "def show_numbers(**kwargs):\n",
        "  print(kwargs)\n",
        "\n",
        "show_numbers(a=1, b=2, c=3)\n",
        "\n",
        "d = {\"a\":1, \"b\":2, \"c\":3}\n",
        "show_numbers(**d)"
      ],
      "metadata": {
        "colab": {
          "base_uri": "https://localhost:8080/"
        },
        "id": "ZUC9WsWrPtcx",
        "outputId": "111857f0-7786-4293-d6e1-0bcb349de850"
      },
      "execution_count": 21,
      "outputs": [
        {
          "output_type": "stream",
          "name": "stdout",
          "text": [
            "{'a': 1, 'b': 2, 'c': 3}\n",
            "{'a': 1, 'b': 2, 'c': 3}\n"
          ]
        }
      ]
    },
    {
      "cell_type": "code",
      "source": [
        "def outer_func(a, b):\n",
        "  def inner_func(c, d):\n",
        "    return c - d\n",
        "\n",
        "  x = inner_func(2, 1)\n",
        "  y = inner_func(a, b)\n",
        "  print(x)\n",
        "  print(y)\n",
        "\n",
        "outer_func(3, 1)"
      ],
      "metadata": {
        "colab": {
          "base_uri": "https://localhost:8080/"
        },
        "id": "lB_cpngzQLbV",
        "outputId": "733bfdbf-2f35-47de-cc42-99b9d129307b"
      },
      "execution_count": 22,
      "outputs": [
        {
          "output_type": "stream",
          "name": "stdout",
          "text": [
            "1\n",
            "2\n"
          ]
        }
      ]
    },
    {
      "cell_type": "code",
      "source": [
        "def circle_area(pi, radius):\n",
        "  return pi * radius * radius\n",
        "\n",
        "area = circle_area\n",
        "print(area)\n",
        "print(area(3.14, 2))"
      ],
      "metadata": {
        "colab": {
          "base_uri": "https://localhost:8080/"
        },
        "id": "i7P1CV66QvIi",
        "outputId": "b5749f59-d6a0-45d5-8ac4-8fabe6cf145a"
      },
      "execution_count": 25,
      "outputs": [
        {
          "output_type": "stream",
          "name": "stdout",
          "text": [
            "<function circle_area at 0x7d76aa21eb90>\n",
            "12.56\n"
          ]
        }
      ]
    },
    {
      "cell_type": "code",
      "source": [
        "def info(func):\n",
        "  def wrapper(*args, **kwargs):\n",
        "    print(\"\\n==== Srart ====\")\n",
        "    func(*args, **kwargs)\n",
        "    print(\"==== Finish ===\\n\")\n",
        "  return wrapper\n",
        "\n",
        "@info\n",
        "def add(a, b):\n",
        "  print(a + b)\n",
        "\n",
        "@info\n",
        "def add2(c, d, e):\n",
        "  print(c + d + e)\n",
        "\n",
        "add(1,2)\n",
        "add(3,4)\n",
        "add2(1,2,3)"
      ],
      "metadata": {
        "colab": {
          "base_uri": "https://localhost:8080/"
        },
        "id": "L6WAvmzURVum",
        "outputId": "4ee4cf13-d943-484f-c730-75fff2e0dfd2"
      },
      "execution_count": 33,
      "outputs": [
        {
          "output_type": "stream",
          "name": "stdout",
          "text": [
            "\n",
            "==== Srart ====\n",
            "3\n",
            "==== Finish ===\n",
            "\n",
            "\n",
            "==== Srart ====\n",
            "7\n",
            "==== Finish ===\n",
            "\n",
            "\n",
            "==== Srart ====\n",
            "6\n",
            "==== Finish ===\n",
            "\n"
          ]
        }
      ]
    },
    {
      "cell_type": "code",
      "source": [],
      "metadata": {
        "id": "XE5h-NDRS89d"
      },
      "execution_count": null,
      "outputs": []
    }
  ]
}