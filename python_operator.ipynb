{
  "nbformat": 4,
  "nbformat_minor": 0,
  "metadata": {
    "colab": {
      "provenance": [],
      "authorship_tag": "ABX9TyNvegGW+8hGn2tc1yJPa5De",
      "include_colab_link": true
    },
    "kernelspec": {
      "name": "python3",
      "display_name": "Python 3"
    },
    "language_info": {
      "name": "python"
    }
  },
  "cells": [
    {
      "cell_type": "markdown",
      "metadata": {
        "id": "view-in-github",
        "colab_type": "text"
      },
      "source": [
        "<a href=\"https://colab.research.google.com/github/R1013-T/Python-basic/blob/main/python_operator.ipynb\" target=\"_parent\"><img src=\"https://colab.research.google.com/assets/colab-badge.svg\" alt=\"Open In Colab\"/></a>"
      ]
    },
    {
      "cell_type": "code",
      "execution_count": 4,
      "metadata": {
        "id": "dssFPezWKkHl"
      },
      "outputs": [],
      "source": [
        "# 演算子"
      ]
    },
    {
      "cell_type": "code",
      "source": [
        "x = 10\n",
        "y = 2"
      ],
      "metadata": {
        "id": "3X1va-QYLF4Y"
      },
      "execution_count": 5,
      "outputs": []
    },
    {
      "cell_type": "code",
      "source": [
        "# 算術演算子\n",
        "\n",
        "print(x + y)\n",
        "print(x - y)\n",
        "print(x * y)\n",
        "print(x / y)\n",
        "print(x % y)\n",
        "print(x // y)"
      ],
      "metadata": {
        "colab": {
          "base_uri": "https://localhost:8080/"
        },
        "id": "F_y95PUeKsKO",
        "outputId": "a9d94906-0135-4219-a6cd-fb80e18035f8"
      },
      "execution_count": 6,
      "outputs": [
        {
          "output_type": "stream",
          "name": "stdout",
          "text": [
            "12\n",
            "8\n",
            "20\n",
            "5.0\n",
            "0\n",
            "5\n"
          ]
        }
      ]
    },
    {
      "cell_type": "code",
      "source": [
        "# 関係演算子\n",
        "z = 10\n",
        "\n",
        "print( x <= y)\n",
        "print( x <= z)"
      ],
      "metadata": {
        "colab": {
          "base_uri": "https://localhost:8080/"
        },
        "id": "nPlIw5ZfK9Ii",
        "outputId": "72c80ed0-a49d-4416-aa1e-4e9cfe669af8"
      },
      "execution_count": 7,
      "outputs": [
        {
          "output_type": "stream",
          "name": "stdout",
          "text": [
            "False\n",
            "True\n"
          ]
        }
      ]
    },
    {
      "cell_type": "code",
      "source": [
        "# 等価\n",
        "\n",
        "print( x == y)\n",
        "print( x != y)"
      ],
      "metadata": {
        "colab": {
          "base_uri": "https://localhost:8080/"
        },
        "id": "djridN_oK_XJ",
        "outputId": "9d651eae-c2e5-40cc-bb73-10a6d46a5296"
      },
      "execution_count": 9,
      "outputs": [
        {
          "output_type": "stream",
          "name": "stdout",
          "text": [
            "False\n",
            "True\n"
          ]
        }
      ]
    },
    {
      "cell_type": "code",
      "source": [
        "# 論理演算子\n",
        "print(\"\\n=====\\nx:\",x,\"\\ny:\",y,\"\\n\")\n",
        "\n",
        "print(x >= 5 and x <= 9)\n",
        "print(x >= 5 or x <= 11)"
      ],
      "metadata": {
        "colab": {
          "base_uri": "https://localhost:8080/"
        },
        "id": "K_j6cbqVLPpR",
        "outputId": "b78cebfd-d204-459e-a6c9-96a8eed1fefd"
      },
      "execution_count": 16,
      "outputs": [
        {
          "output_type": "stream",
          "name": "stdout",
          "text": [
            "\n",
            "=====\n",
            "x: 10 \n",
            "y: 2 \n",
            "\n",
            "False\n",
            "True\n"
          ]
        }
      ]
    },
    {
      "cell_type": "code",
      "source": [
        "# is演算子\n",
        "\n",
        "l1 = [1, 2, 3, 4, 5]\n",
        "l2 = [1, 2, 3, 4, 5]\n",
        "l3 = l1\n",
        "\n",
        "print(\"l1 == l2:\", l1 == l2)\n",
        "print(\"l1 is l2:\", l1 is l2)\n",
        "print(\"l1 == l3:\", l1 == l3)\n",
        "print(\"l1 is l3:\", l1 is l3)\n",
        "\n",
        "print(id(l1))\n",
        "print(id(l2))\n",
        "print(id(l3))\n",
        "\n",
        "l1.append(6)\n",
        "print(id(l1))\n",
        "\n",
        "print(l1)\n",
        "print(l2)\n",
        "print(l3)"
      ],
      "metadata": {
        "colab": {
          "base_uri": "https://localhost:8080/"
        },
        "id": "lYsvMVukLi11",
        "outputId": "318f8835-ed34-4351-a8a2-9906030175ef"
      },
      "execution_count": 20,
      "outputs": [
        {
          "output_type": "stream",
          "name": "stdout",
          "text": [
            "l1 == l2: True\n",
            "l1 is l2: False\n",
            "l1 == l3: True\n",
            "l1 is l3: True\n",
            "136704909221312\n",
            "136704909215680\n",
            "136704909221312\n",
            "136704909221312\n",
            "[1, 2, 3, 4, 5, 6]\n",
            "[1, 2, 3, 4, 5]\n",
            "[1, 2, 3, 4, 5, 6]\n"
          ]
        }
      ]
    },
    {
      "cell_type": "code",
      "source": [
        "# in演算子\n",
        "\n",
        "l = [0, 1, 2, 3]\n",
        "print(2 in l)\n",
        "print(4 in l)\n",
        "\n",
        "# not in演算子\n",
        "print(2 not in l)\n",
        "print(4 not in l)"
      ],
      "metadata": {
        "colab": {
          "base_uri": "https://localhost:8080/"
        },
        "id": "13U2lYgSLndH",
        "outputId": "11bb6633-b89a-450f-dee3-66e616e86f85"
      },
      "execution_count": 23,
      "outputs": [
        {
          "output_type": "stream",
          "name": "stdout",
          "text": [
            "True\n",
            "False\n",
            "False\n",
            "True\n"
          ]
        }
      ]
    },
    {
      "cell_type": "code",
      "source": [
        "# ビット演算子\n",
        "\n",
        "print(0b10)\n",
        "print(0b1010)\n",
        "\n",
        "print(\"\\n\")\n",
        "\n",
        "print(bin(2))\n",
        "print(bin(10))"
      ],
      "metadata": {
        "colab": {
          "base_uri": "https://localhost:8080/"
        },
        "id": "U3770pXFM67D",
        "outputId": "63a69574-baeb-496d-a288-df0ac2308b0d"
      },
      "execution_count": 27,
      "outputs": [
        {
          "output_type": "stream",
          "name": "stdout",
          "text": [
            "2\n",
            "10\n",
            "\n",
            "\n",
            "0b10\n",
            "0b1010\n"
          ]
        }
      ]
    },
    {
      "cell_type": "code",
      "source": [],
      "metadata": {
        "id": "G0_TYnoeNlE6"
      },
      "execution_count": null,
      "outputs": []
    }
  ]
}