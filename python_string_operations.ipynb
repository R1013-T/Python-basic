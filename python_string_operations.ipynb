{
  "nbformat": 4,
  "nbformat_minor": 0,
  "metadata": {
    "colab": {
      "provenance": [],
      "authorship_tag": "ABX9TyMti7df/dZnpyrFJDzjfjF7",
      "include_colab_link": true
    },
    "kernelspec": {
      "name": "python3",
      "display_name": "Python 3"
    },
    "language_info": {
      "name": "python"
    }
  },
  "cells": [
    {
      "cell_type": "markdown",
      "metadata": {
        "id": "view-in-github",
        "colab_type": "text"
      },
      "source": [
        "<a href=\"https://colab.research.google.com/github/R1013-T/Python-basic/blob/main/python_string_operations.ipynb\" target=\"_parent\"><img src=\"https://colab.research.google.com/assets/colab-badge.svg\" alt=\"Open In Colab\"/></a>"
      ]
    },
    {
      "cell_type": "code",
      "execution_count": 1,
      "metadata": {
        "id": "Qh_qsRpXv3V6"
      },
      "outputs": [],
      "source": [
        "# 文字列操作"
      ]
    },
    {
      "cell_type": "code",
      "source": [
        "x = \"aaa\" + \"bbb\"\n",
        "\n",
        "print(x)\n",
        "print(x[3])\n",
        "\n",
        "y = \"aaa\" * 5\n",
        "\n",
        "print(y)"
      ],
      "metadata": {
        "colab": {
          "base_uri": "https://localhost:8080/"
        },
        "id": "tOsbeFnbwCst",
        "outputId": "771aa22a-531e-47ca-cc1c-a92b7883e608"
      },
      "execution_count": 2,
      "outputs": [
        {
          "output_type": "stream",
          "name": "stdout",
          "text": [
            "aaabbb\n",
            "b\n",
            "aaaaaaaaaaaaaaa\n"
          ]
        }
      ]
    },
    {
      "cell_type": "code",
      "source": [
        "x = \"-\".join([\"a\",\"b\",\"c\"])\n",
        "\n",
        "print(x)"
      ],
      "metadata": {
        "colab": {
          "base_uri": "https://localhost:8080/"
        },
        "id": "oH_xGTSnwlJ7",
        "outputId": "a27ec4b8-db38-424d-f5de-78948b659148"
      },
      "execution_count": 3,
      "outputs": [
        {
          "output_type": "stream",
          "name": "stdout",
          "text": [
            "a-b-c\n"
          ]
        }
      ]
    },
    {
      "cell_type": "code",
      "source": [
        "x = \"123\" + str(456)\n",
        "\n",
        "print(x)"
      ],
      "metadata": {
        "colab": {
          "base_uri": "https://localhost:8080/"
        },
        "id": "a_8SobOrwrd8",
        "outputId": "000cdb26-41d1-4ac2-8003-403f65e867d0"
      },
      "execution_count": 4,
      "outputs": [
        {
          "output_type": "stream",
          "name": "stdout",
          "text": [
            "123456\n"
          ]
        }
      ]
    },
    {
      "cell_type": "code",
      "source": [
        "x = \"Hello World !\"\n",
        "\n",
        "a = x.split()\n",
        "\n",
        "print(a)\n",
        "\n",
        "x = \"Hello_World_!\"\n",
        "\n",
        "a = x.split(sep=\"_\")\n",
        "\n",
        "print(a)"
      ],
      "metadata": {
        "colab": {
          "base_uri": "https://localhost:8080/"
        },
        "id": "_iqgEZDHwzrZ",
        "outputId": "52183746-175e-4f9a-8537-ce1163e23b20"
      },
      "execution_count": 6,
      "outputs": [
        {
          "output_type": "stream",
          "name": "stdout",
          "text": [
            "['Hello', 'World', '!']\n",
            "['Hello', 'World', '!']\n"
          ]
        }
      ]
    },
    {
      "cell_type": "code",
      "source": [
        "x = \"Hello World !\"\n",
        "\n",
        "print(\"o\" in x)\n",
        "print(\"World\" in x)\n",
        "print(\"world\" in x)"
      ],
      "metadata": {
        "colab": {
          "base_uri": "https://localhost:8080/"
        },
        "id": "kXqN-eEww9pB",
        "outputId": "f837ac9c-fcdf-4970-c20e-70c0a328022b"
      },
      "execution_count": 8,
      "outputs": [
        {
          "output_type": "stream",
          "name": "stdout",
          "text": [
            "True\n",
            "True\n",
            "False\n"
          ]
        }
      ]
    },
    {
      "cell_type": "code",
      "source": [
        "x = \"Hello World !\"\n",
        "\n",
        "a = x.find(\"e\")\n",
        "\n",
        "print(a)\n",
        "\n",
        "a = x.find(\"World\")\n",
        "\n",
        "print(a)"
      ],
      "metadata": {
        "colab": {
          "base_uri": "https://localhost:8080/"
        },
        "id": "I6w0EesOxO97",
        "outputId": "d57f8feb-14e3-4752-98e6-742c28278284"
      },
      "execution_count": 10,
      "outputs": [
        {
          "output_type": "stream",
          "name": "stdout",
          "text": [
            "1\n",
            "6\n"
          ]
        }
      ]
    },
    {
      "cell_type": "code",
      "source": [
        "x = \"Hello World !\"\n",
        "\n",
        "a = x.replace(\"World\",\"Python\")\n",
        "\n",
        "print(a)"
      ],
      "metadata": {
        "colab": {
          "base_uri": "https://localhost:8080/"
        },
        "id": "Bq5t1LoSxftd",
        "outputId": "6ca1a19c-91e7-4a80-b7b7-5685423e7629"
      },
      "execution_count": 12,
      "outputs": [
        {
          "output_type": "stream",
          "name": "stdout",
          "text": [
            "Hello Python !\n"
          ]
        }
      ]
    },
    {
      "cell_type": "code",
      "source": [
        "x = \"Python\"\n",
        "\n",
        "print(\"Hello {} !\".format(x))\n",
        "print(\"Hello {} !\".format(x + \" and Google Colab\"))"
      ],
      "metadata": {
        "colab": {
          "base_uri": "https://localhost:8080/"
        },
        "id": "Oix3CAHFxuQG",
        "outputId": "d0afadc6-08c8-4718-e82a-673ce5a2d52c"
      },
      "execution_count": 17,
      "outputs": [
        {
          "output_type": "stream",
          "name": "stdout",
          "text": [
            "Hello Python !\n",
            "Hello Python and Google Colab !\n"
          ]
        }
      ]
    },
    {
      "cell_type": "code",
      "source": [
        "x = \"Python\"\n",
        "y = \"Google Colab\"\n",
        "\n",
        "print(\"Hello, {} and {} !\".format(x,y))\n",
        "print(\"Hello, {1} and {0} !\".format(x,y))\n",
        "print(\"Hello, {A} and {B} !\".format(A=x,B=y))"
      ],
      "metadata": {
        "colab": {
          "base_uri": "https://localhost:8080/"
        },
        "id": "k9Dh7hbyyKQz",
        "outputId": "c28c158f-d353-4e7b-a3e9-cefa2f5930fa"
      },
      "execution_count": 20,
      "outputs": [
        {
          "output_type": "stream",
          "name": "stdout",
          "text": [
            "Hello, Python and Google Colab !\n",
            "Hello, Google Colab and Python !\n",
            "Hello, Python and Google Colab !\n"
          ]
        }
      ]
    },
    {
      "cell_type": "code",
      "source": [
        "x = 1\n",
        "y = 2\n",
        "print(\"{} ÷ {} = {:.2f}\".format(x,y,x/y))"
      ],
      "metadata": {
        "colab": {
          "base_uri": "https://localhost:8080/"
        },
        "id": "f7WyxrlMyliH",
        "outputId": "3a19a3c9-54a6-4fd7-e249-643e15ac0b82"
      },
      "execution_count": 21,
      "outputs": [
        {
          "output_type": "stream",
          "name": "stdout",
          "text": [
            "1 ÷ 2 = 0.50\n"
          ]
        }
      ]
    },
    {
      "cell_type": "code",
      "source": [
        "x = \"Python\"\n",
        "print(f\"Hello {x} !\")"
      ],
      "metadata": {
        "colab": {
          "base_uri": "https://localhost:8080/"
        },
        "id": "SgAD0cB7zLiz",
        "outputId": "84d21220-60f4-4da3-c35c-6c2706e3ae32"
      },
      "execution_count": 22,
      "outputs": [
        {
          "output_type": "stream",
          "name": "stdout",
          "text": [
            "Hello Python !\n"
          ]
        }
      ]
    },
    {
      "cell_type": "code",
      "source": [],
      "metadata": {
        "id": "JYYHhVynzVgg"
      },
      "execution_count": null,
      "outputs": []
    }
  ]
}